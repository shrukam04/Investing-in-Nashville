{
 "cells": [
  {
   "cell_type": "code",
   "execution_count": 2,
   "id": "7a6b3267",
   "metadata": {},
   "outputs": [],
   "source": [
    "import numpy as np\n",
    "import pandas as pd\n",
    "import seaborn as sns\n",
    "import statsmodels.api as sm\n",
    "from scipy import stats\n",
    "from sklearn import linear_model\n",
    "from sklearn.linear_model import LogisticRegression\n",
    "import matplotlib.pyplot as plt\n",
    "from sklearn import metrics\n",
    "from sklearn.ensemble import RandomForestClassifier\n",
    "from sklearn.ensemble import GradientBoostingClassifier\n",
    "from sklearn.preprocessing import StandardScaler\n",
    "from sklearn.metrics import mean_squared_error, r2_score, accuracy_score, classification_report, confusion_matrix\n",
    "from sklearn.model_selection import train_test_split\n",
    "from sklearn import tree\n",
    "from sklearn.tree import DecisionTreeClassifier \n",
    "from sklearn.tree import plot_tree  \n",
    "import statsmodels.api as sm"
   ]
  },
  {
   "cell_type": "code",
   "execution_count": 3,
   "id": "68646f81",
   "metadata": {},
   "outputs": [
    {
     "data": {
      "text/html": [
       "<div>\n",
       "<style scoped>\n",
       "    .dataframe tbody tr th:only-of-type {\n",
       "        vertical-align: middle;\n",
       "    }\n",
       "\n",
       "    .dataframe tbody tr th {\n",
       "        vertical-align: top;\n",
       "    }\n",
       "\n",
       "    .dataframe thead th {\n",
       "        text-align: right;\n",
       "    }\n",
       "</style>\n",
       "<table border=\"1\" class=\"dataframe\">\n",
       "  <thead>\n",
       "    <tr style=\"text-align: right;\">\n",
       "      <th></th>\n",
       "      <th>Unnamed: 0</th>\n",
       "      <th>Land Use</th>\n",
       "      <th>Sale Date</th>\n",
       "      <th>Sale Price</th>\n",
       "      <th>Sold As Vacant</th>\n",
       "      <th>Multiple Parcels Involved in Sale</th>\n",
       "      <th>Address</th>\n",
       "      <th>Acreage</th>\n",
       "      <th>Land Value</th>\n",
       "      <th>Building Value</th>\n",
       "      <th>Total Value</th>\n",
       "      <th>Finished Area</th>\n",
       "      <th>Year Built</th>\n",
       "      <th>Exterior Wall</th>\n",
       "      <th>Grade</th>\n",
       "      <th>Bedrooms</th>\n",
       "      <th>Full Bath</th>\n",
       "      <th>Half Bath</th>\n",
       "    </tr>\n",
       "  </thead>\n",
       "  <tbody>\n",
       "    <tr>\n",
       "      <th>0</th>\n",
       "      <td>1</td>\n",
       "      <td>SINGLE FAMILY</td>\n",
       "      <td>1/11/2013</td>\n",
       "      <td>191500</td>\n",
       "      <td>No</td>\n",
       "      <td>No</td>\n",
       "      <td>1802  STEWART PL</td>\n",
       "      <td>0.17</td>\n",
       "      <td>32000</td>\n",
       "      <td>134400</td>\n",
       "      <td>168300</td>\n",
       "      <td>1149.00000</td>\n",
       "      <td>1941</td>\n",
       "      <td>BRICK</td>\n",
       "      <td>C</td>\n",
       "      <td>2.0</td>\n",
       "      <td>1.0</td>\n",
       "      <td>0.0</td>\n",
       "    </tr>\n",
       "    <tr>\n",
       "      <th>1</th>\n",
       "      <td>2</td>\n",
       "      <td>SINGLE FAMILY</td>\n",
       "      <td>1/18/2013</td>\n",
       "      <td>202000</td>\n",
       "      <td>No</td>\n",
       "      <td>No</td>\n",
       "      <td>2761  ROSEDALE PL</td>\n",
       "      <td>0.11</td>\n",
       "      <td>34000</td>\n",
       "      <td>157800</td>\n",
       "      <td>191800</td>\n",
       "      <td>2090.82495</td>\n",
       "      <td>2000</td>\n",
       "      <td>BRICK/FRAME</td>\n",
       "      <td>C</td>\n",
       "      <td>3.0</td>\n",
       "      <td>2.0</td>\n",
       "      <td>1.0</td>\n",
       "    </tr>\n",
       "    <tr>\n",
       "      <th>2</th>\n",
       "      <td>3</td>\n",
       "      <td>SINGLE FAMILY</td>\n",
       "      <td>1/18/2013</td>\n",
       "      <td>32000</td>\n",
       "      <td>No</td>\n",
       "      <td>No</td>\n",
       "      <td>224  PEACHTREE ST</td>\n",
       "      <td>0.17</td>\n",
       "      <td>25000</td>\n",
       "      <td>243700</td>\n",
       "      <td>268700</td>\n",
       "      <td>2145.60001</td>\n",
       "      <td>1948</td>\n",
       "      <td>BRICK/FRAME</td>\n",
       "      <td>B</td>\n",
       "      <td>4.0</td>\n",
       "      <td>2.0</td>\n",
       "      <td>0.0</td>\n",
       "    </tr>\n",
       "    <tr>\n",
       "      <th>3</th>\n",
       "      <td>4</td>\n",
       "      <td>SINGLE FAMILY</td>\n",
       "      <td>1/23/2013</td>\n",
       "      <td>102000</td>\n",
       "      <td>No</td>\n",
       "      <td>No</td>\n",
       "      <td>316  LUTIE ST</td>\n",
       "      <td>0.34</td>\n",
       "      <td>25000</td>\n",
       "      <td>138100</td>\n",
       "      <td>164800</td>\n",
       "      <td>1969.00000</td>\n",
       "      <td>1910</td>\n",
       "      <td>FRAME</td>\n",
       "      <td>C</td>\n",
       "      <td>2.0</td>\n",
       "      <td>1.0</td>\n",
       "      <td>0.0</td>\n",
       "    </tr>\n",
       "    <tr>\n",
       "      <th>4</th>\n",
       "      <td>5</td>\n",
       "      <td>SINGLE FAMILY</td>\n",
       "      <td>1/4/2013</td>\n",
       "      <td>93736</td>\n",
       "      <td>No</td>\n",
       "      <td>No</td>\n",
       "      <td>2626  FOSTER AVE</td>\n",
       "      <td>0.17</td>\n",
       "      <td>25000</td>\n",
       "      <td>86100</td>\n",
       "      <td>113300</td>\n",
       "      <td>1037.00000</td>\n",
       "      <td>1945</td>\n",
       "      <td>FRAME</td>\n",
       "      <td>C</td>\n",
       "      <td>2.0</td>\n",
       "      <td>1.0</td>\n",
       "      <td>0.0</td>\n",
       "    </tr>\n",
       "    <tr>\n",
       "      <th>...</th>\n",
       "      <td>...</td>\n",
       "      <td>...</td>\n",
       "      <td>...</td>\n",
       "      <td>...</td>\n",
       "      <td>...</td>\n",
       "      <td>...</td>\n",
       "      <td>...</td>\n",
       "      <td>...</td>\n",
       "      <td>...</td>\n",
       "      <td>...</td>\n",
       "      <td>...</td>\n",
       "      <td>...</td>\n",
       "      <td>...</td>\n",
       "      <td>...</td>\n",
       "      <td>...</td>\n",
       "      <td>...</td>\n",
       "      <td>...</td>\n",
       "      <td>...</td>\n",
       "    </tr>\n",
       "    <tr>\n",
       "      <th>23537</th>\n",
       "      <td>56605</td>\n",
       "      <td>SINGLE FAMILY</td>\n",
       "      <td>10/26/2016</td>\n",
       "      <td>214000</td>\n",
       "      <td>No</td>\n",
       "      <td>No</td>\n",
       "      <td>5004  SUNSHINE DR</td>\n",
       "      <td>0.27</td>\n",
       "      <td>25000</td>\n",
       "      <td>142400</td>\n",
       "      <td>167400</td>\n",
       "      <td>2421.00000</td>\n",
       "      <td>1996</td>\n",
       "      <td>BRICK/FRAME</td>\n",
       "      <td>C</td>\n",
       "      <td>3.0</td>\n",
       "      <td>3.0</td>\n",
       "      <td>0.0</td>\n",
       "    </tr>\n",
       "    <tr>\n",
       "      <th>23538</th>\n",
       "      <td>56607</td>\n",
       "      <td>SINGLE FAMILY</td>\n",
       "      <td>10/28/2016</td>\n",
       "      <td>236000</td>\n",
       "      <td>No</td>\n",
       "      <td>No</td>\n",
       "      <td>4964  HICKORY WOODS E</td>\n",
       "      <td>0.23</td>\n",
       "      <td>25000</td>\n",
       "      <td>159300</td>\n",
       "      <td>184300</td>\n",
       "      <td>3117.00000</td>\n",
       "      <td>1995</td>\n",
       "      <td>BRICK/FRAME</td>\n",
       "      <td>C</td>\n",
       "      <td>3.0</td>\n",
       "      <td>3.0</td>\n",
       "      <td>0.0</td>\n",
       "    </tr>\n",
       "    <tr>\n",
       "      <th>23539</th>\n",
       "      <td>56614</td>\n",
       "      <td>SINGLE FAMILY</td>\n",
       "      <td>10/28/2016</td>\n",
       "      <td>466000</td>\n",
       "      <td>No</td>\n",
       "      <td>No</td>\n",
       "      <td>1625  5TH AVE N</td>\n",
       "      <td>0.15</td>\n",
       "      <td>40000</td>\n",
       "      <td>204100</td>\n",
       "      <td>256000</td>\n",
       "      <td>1637.00000</td>\n",
       "      <td>2004</td>\n",
       "      <td>FRAME</td>\n",
       "      <td>B</td>\n",
       "      <td>3.0</td>\n",
       "      <td>2.0</td>\n",
       "      <td>1.0</td>\n",
       "    </tr>\n",
       "    <tr>\n",
       "      <th>23540</th>\n",
       "      <td>56615</td>\n",
       "      <td>SINGLE FAMILY</td>\n",
       "      <td>10/26/2016</td>\n",
       "      <td>685000</td>\n",
       "      <td>No</td>\n",
       "      <td>No</td>\n",
       "      <td>1614  5TH AVE N</td>\n",
       "      <td>0.19</td>\n",
       "      <td>40000</td>\n",
       "      <td>295900</td>\n",
       "      <td>351600</td>\n",
       "      <td>2478.00000</td>\n",
       "      <td>2005</td>\n",
       "      <td>FRAME</td>\n",
       "      <td>B</td>\n",
       "      <td>4.0</td>\n",
       "      <td>3.0</td>\n",
       "      <td>1.0</td>\n",
       "    </tr>\n",
       "    <tr>\n",
       "      <th>23541</th>\n",
       "      <td>56616</td>\n",
       "      <td>VACANT RESIDENTIAL LAND</td>\n",
       "      <td>10/12/2016</td>\n",
       "      <td>280000</td>\n",
       "      <td>No</td>\n",
       "      <td>No</td>\n",
       "      <td>1709  3RD AVE N</td>\n",
       "      <td>0.20</td>\n",
       "      <td>40000</td>\n",
       "      <td>5100</td>\n",
       "      <td>46000</td>\n",
       "      <td>1180.00000</td>\n",
       "      <td>1899</td>\n",
       "      <td>BRICK</td>\n",
       "      <td>D</td>\n",
       "      <td>3.0</td>\n",
       "      <td>1.0</td>\n",
       "      <td>0.0</td>\n",
       "    </tr>\n",
       "  </tbody>\n",
       "</table>\n",
       "<p>23542 rows × 18 columns</p>\n",
       "</div>"
      ],
      "text/plain": [
       "       Unnamed: 0                 Land Use   Sale Date  Sale Price  \\\n",
       "0               1            SINGLE FAMILY   1/11/2013      191500   \n",
       "1               2            SINGLE FAMILY   1/18/2013      202000   \n",
       "2               3            SINGLE FAMILY   1/18/2013       32000   \n",
       "3               4            SINGLE FAMILY   1/23/2013      102000   \n",
       "4               5            SINGLE FAMILY    1/4/2013       93736   \n",
       "...           ...                      ...         ...         ...   \n",
       "23537       56605            SINGLE FAMILY  10/26/2016      214000   \n",
       "23538       56607            SINGLE FAMILY  10/28/2016      236000   \n",
       "23539       56614            SINGLE FAMILY  10/28/2016      466000   \n",
       "23540       56615            SINGLE FAMILY  10/26/2016      685000   \n",
       "23541       56616  VACANT RESIDENTIAL LAND  10/12/2016      280000   \n",
       "\n",
       "      Sold As Vacant Multiple Parcels Involved in Sale                Address  \\\n",
       "0                 No                                No       1802  STEWART PL   \n",
       "1                 No                                No      2761  ROSEDALE PL   \n",
       "2                 No                                No      224  PEACHTREE ST   \n",
       "3                 No                                No          316  LUTIE ST   \n",
       "4                 No                                No       2626  FOSTER AVE   \n",
       "...              ...                               ...                    ...   \n",
       "23537             No                                No      5004  SUNSHINE DR   \n",
       "23538             No                                No  4964  HICKORY WOODS E   \n",
       "23539             No                                No        1625  5TH AVE N   \n",
       "23540             No                                No        1614  5TH AVE N   \n",
       "23541             No                                No        1709  3RD AVE N   \n",
       "\n",
       "       Acreage  Land Value  Building Value  Total Value  Finished Area  \\\n",
       "0         0.17       32000          134400       168300     1149.00000   \n",
       "1         0.11       34000          157800       191800     2090.82495   \n",
       "2         0.17       25000          243700       268700     2145.60001   \n",
       "3         0.34       25000          138100       164800     1969.00000   \n",
       "4         0.17       25000           86100       113300     1037.00000   \n",
       "...        ...         ...             ...          ...            ...   \n",
       "23537     0.27       25000          142400       167400     2421.00000   \n",
       "23538     0.23       25000          159300       184300     3117.00000   \n",
       "23539     0.15       40000          204100       256000     1637.00000   \n",
       "23540     0.19       40000          295900       351600     2478.00000   \n",
       "23541     0.20       40000            5100        46000     1180.00000   \n",
       "\n",
       "       Year Built Exterior Wall Grade  Bedrooms  Full Bath  Half Bath  \n",
       "0            1941         BRICK  C          2.0        1.0        0.0  \n",
       "1            2000   BRICK/FRAME  C          3.0        2.0        1.0  \n",
       "2            1948   BRICK/FRAME  B          4.0        2.0        0.0  \n",
       "3            1910         FRAME  C          2.0        1.0        0.0  \n",
       "4            1945         FRAME  C          2.0        1.0        0.0  \n",
       "...           ...           ...   ...       ...        ...        ...  \n",
       "23537        1996   BRICK/FRAME  C          3.0        3.0        0.0  \n",
       "23538        1995   BRICK/FRAME  C          3.0        3.0        0.0  \n",
       "23539        2004         FRAME  B          3.0        2.0        1.0  \n",
       "23540        2005         FRAME  B          4.0        3.0        1.0  \n",
       "23541        1899         BRICK  D          3.0        1.0        0.0  \n",
       "\n",
       "[23542 rows x 18 columns]"
      ]
     },
     "execution_count": 3,
     "metadata": {},
     "output_type": "execute_result"
    }
   ],
   "source": [
    "df = pd.read_csv('/Users/shruti/Desktop/Predictive Analytics/Nashville_housing_data_2013_2016_rework.csv')\n",
    "df"
   ]
  },
  {
   "cell_type": "code",
   "execution_count": 138,
   "id": "a0957b1c",
   "metadata": {
    "scrolled": true
   },
   "outputs": [
    {
     "data": {
      "text/html": [
       "<div>\n",
       "<style scoped>\n",
       "    .dataframe tbody tr th:only-of-type {\n",
       "        vertical-align: middle;\n",
       "    }\n",
       "\n",
       "    .dataframe tbody tr th {\n",
       "        vertical-align: top;\n",
       "    }\n",
       "\n",
       "    .dataframe thead th {\n",
       "        text-align: right;\n",
       "    }\n",
       "</style>\n",
       "<table border=\"1\" class=\"dataframe\">\n",
       "  <thead>\n",
       "    <tr style=\"text-align: right;\">\n",
       "      <th></th>\n",
       "      <th>Unnamed: 0</th>\n",
       "      <th>Land Use</th>\n",
       "      <th>Sale Date</th>\n",
       "      <th>Sale Price</th>\n",
       "      <th>Sold As Vacant</th>\n",
       "      <th>Multiple Parcels Involved in Sale</th>\n",
       "      <th>Address</th>\n",
       "      <th>Acreage</th>\n",
       "      <th>Land Value</th>\n",
       "      <th>Building Value</th>\n",
       "      <th>Total Value</th>\n",
       "      <th>Finished Area</th>\n",
       "      <th>Year Built</th>\n",
       "      <th>Exterior Wall</th>\n",
       "      <th>Grade</th>\n",
       "      <th>Bedrooms</th>\n",
       "      <th>Full Bath</th>\n",
       "      <th>Half Bath</th>\n",
       "    </tr>\n",
       "  </thead>\n",
       "  <tbody>\n",
       "    <tr>\n",
       "      <th>0</th>\n",
       "      <td>1</td>\n",
       "      <td>SINGLE FAMILY</td>\n",
       "      <td>1/11/2013</td>\n",
       "      <td>191500</td>\n",
       "      <td>No</td>\n",
       "      <td>No</td>\n",
       "      <td>1802  STEWART PL</td>\n",
       "      <td>0.17</td>\n",
       "      <td>32000</td>\n",
       "      <td>134400</td>\n",
       "      <td>168300</td>\n",
       "      <td>1149.00000</td>\n",
       "      <td>1941</td>\n",
       "      <td>BRICK</td>\n",
       "      <td>C</td>\n",
       "      <td>2.0</td>\n",
       "      <td>1.0</td>\n",
       "      <td>0.0</td>\n",
       "    </tr>\n",
       "    <tr>\n",
       "      <th>1</th>\n",
       "      <td>2</td>\n",
       "      <td>SINGLE FAMILY</td>\n",
       "      <td>1/18/2013</td>\n",
       "      <td>202000</td>\n",
       "      <td>No</td>\n",
       "      <td>No</td>\n",
       "      <td>2761  ROSEDALE PL</td>\n",
       "      <td>0.11</td>\n",
       "      <td>34000</td>\n",
       "      <td>157800</td>\n",
       "      <td>191800</td>\n",
       "      <td>2090.82495</td>\n",
       "      <td>2000</td>\n",
       "      <td>BRICK/FRAME</td>\n",
       "      <td>C</td>\n",
       "      <td>3.0</td>\n",
       "      <td>2.0</td>\n",
       "      <td>1.0</td>\n",
       "    </tr>\n",
       "    <tr>\n",
       "      <th>2</th>\n",
       "      <td>3</td>\n",
       "      <td>SINGLE FAMILY</td>\n",
       "      <td>1/18/2013</td>\n",
       "      <td>32000</td>\n",
       "      <td>No</td>\n",
       "      <td>No</td>\n",
       "      <td>224  PEACHTREE ST</td>\n",
       "      <td>0.17</td>\n",
       "      <td>25000</td>\n",
       "      <td>243700</td>\n",
       "      <td>268700</td>\n",
       "      <td>2145.60001</td>\n",
       "      <td>1948</td>\n",
       "      <td>BRICK/FRAME</td>\n",
       "      <td>B</td>\n",
       "      <td>4.0</td>\n",
       "      <td>2.0</td>\n",
       "      <td>0.0</td>\n",
       "    </tr>\n",
       "    <tr>\n",
       "      <th>3</th>\n",
       "      <td>4</td>\n",
       "      <td>SINGLE FAMILY</td>\n",
       "      <td>1/23/2013</td>\n",
       "      <td>102000</td>\n",
       "      <td>No</td>\n",
       "      <td>No</td>\n",
       "      <td>316  LUTIE ST</td>\n",
       "      <td>0.34</td>\n",
       "      <td>25000</td>\n",
       "      <td>138100</td>\n",
       "      <td>164800</td>\n",
       "      <td>1969.00000</td>\n",
       "      <td>1910</td>\n",
       "      <td>FRAME</td>\n",
       "      <td>C</td>\n",
       "      <td>2.0</td>\n",
       "      <td>1.0</td>\n",
       "      <td>0.0</td>\n",
       "    </tr>\n",
       "    <tr>\n",
       "      <th>4</th>\n",
       "      <td>5</td>\n",
       "      <td>SINGLE FAMILY</td>\n",
       "      <td>1/4/2013</td>\n",
       "      <td>93736</td>\n",
       "      <td>No</td>\n",
       "      <td>No</td>\n",
       "      <td>2626  FOSTER AVE</td>\n",
       "      <td>0.17</td>\n",
       "      <td>25000</td>\n",
       "      <td>86100</td>\n",
       "      <td>113300</td>\n",
       "      <td>1037.00000</td>\n",
       "      <td>1945</td>\n",
       "      <td>FRAME</td>\n",
       "      <td>C</td>\n",
       "      <td>2.0</td>\n",
       "      <td>1.0</td>\n",
       "      <td>0.0</td>\n",
       "    </tr>\n",
       "    <tr>\n",
       "      <th>5</th>\n",
       "      <td>7</td>\n",
       "      <td>SINGLE FAMILY</td>\n",
       "      <td>1/15/2013</td>\n",
       "      <td>44000</td>\n",
       "      <td>No</td>\n",
       "      <td>No</td>\n",
       "      <td>501  MORTON AVE</td>\n",
       "      <td>0.20</td>\n",
       "      <td>16000</td>\n",
       "      <td>68100</td>\n",
       "      <td>84300</td>\n",
       "      <td>1216.00000</td>\n",
       "      <td>1932</td>\n",
       "      <td>FRAME</td>\n",
       "      <td>D</td>\n",
       "      <td>2.0</td>\n",
       "      <td>1.0</td>\n",
       "      <td>0.0</td>\n",
       "    </tr>\n",
       "    <tr>\n",
       "      <th>6</th>\n",
       "      <td>8</td>\n",
       "      <td>SINGLE FAMILY</td>\n",
       "      <td>1/25/2013</td>\n",
       "      <td>49900</td>\n",
       "      <td>No</td>\n",
       "      <td>No</td>\n",
       "      <td>501  MORTON AVE</td>\n",
       "      <td>0.20</td>\n",
       "      <td>16000</td>\n",
       "      <td>68100</td>\n",
       "      <td>84300</td>\n",
       "      <td>1216.00000</td>\n",
       "      <td>1932</td>\n",
       "      <td>FRAME</td>\n",
       "      <td>D</td>\n",
       "      <td>2.0</td>\n",
       "      <td>1.0</td>\n",
       "      <td>0.0</td>\n",
       "    </tr>\n",
       "    <tr>\n",
       "      <th>7</th>\n",
       "      <td>9</td>\n",
       "      <td>SINGLE FAMILY</td>\n",
       "      <td>1/9/2013</td>\n",
       "      <td>25000</td>\n",
       "      <td>No</td>\n",
       "      <td>No</td>\n",
       "      <td>113  NEESE DR</td>\n",
       "      <td>0.40</td>\n",
       "      <td>25000</td>\n",
       "      <td>57100</td>\n",
       "      <td>88400</td>\n",
       "      <td>1152.00000</td>\n",
       "      <td>1945</td>\n",
       "      <td>FRAME</td>\n",
       "      <td>C</td>\n",
       "      <td>2.0</td>\n",
       "      <td>1.0</td>\n",
       "      <td>0.0</td>\n",
       "    </tr>\n",
       "    <tr>\n",
       "      <th>8</th>\n",
       "      <td>10</td>\n",
       "      <td>SINGLE FAMILY</td>\n",
       "      <td>1/18/2013</td>\n",
       "      <td>90000</td>\n",
       "      <td>No</td>\n",
       "      <td>No</td>\n",
       "      <td>184  WHEELER AVE</td>\n",
       "      <td>0.34</td>\n",
       "      <td>25000</td>\n",
       "      <td>80100</td>\n",
       "      <td>105100</td>\n",
       "      <td>1300.00000</td>\n",
       "      <td>1955</td>\n",
       "      <td>BRICK</td>\n",
       "      <td>C</td>\n",
       "      <td>2.0</td>\n",
       "      <td>1.0</td>\n",
       "      <td>0.0</td>\n",
       "    </tr>\n",
       "    <tr>\n",
       "      <th>9</th>\n",
       "      <td>11</td>\n",
       "      <td>SINGLE FAMILY</td>\n",
       "      <td>1/11/2013</td>\n",
       "      <td>72000</td>\n",
       "      <td>No</td>\n",
       "      <td>No</td>\n",
       "      <td>238  ELYSIAN FIELDS RD</td>\n",
       "      <td>0.23</td>\n",
       "      <td>21500</td>\n",
       "      <td>87900</td>\n",
       "      <td>109400</td>\n",
       "      <td>1175.00000</td>\n",
       "      <td>1968</td>\n",
       "      <td>BRICK</td>\n",
       "      <td>C</td>\n",
       "      <td>3.0</td>\n",
       "      <td>1.0</td>\n",
       "      <td>1.0</td>\n",
       "    </tr>\n",
       "  </tbody>\n",
       "</table>\n",
       "</div>"
      ],
      "text/plain": [
       "   Unnamed: 0       Land Use  Sale Date  Sale Price Sold As Vacant  \\\n",
       "0           1  SINGLE FAMILY  1/11/2013      191500             No   \n",
       "1           2  SINGLE FAMILY  1/18/2013      202000             No   \n",
       "2           3  SINGLE FAMILY  1/18/2013       32000             No   \n",
       "3           4  SINGLE FAMILY  1/23/2013      102000             No   \n",
       "4           5  SINGLE FAMILY   1/4/2013       93736             No   \n",
       "5           7  SINGLE FAMILY  1/15/2013       44000             No   \n",
       "6           8  SINGLE FAMILY  1/25/2013       49900             No   \n",
       "7           9  SINGLE FAMILY   1/9/2013       25000             No   \n",
       "8          10  SINGLE FAMILY  1/18/2013       90000             No   \n",
       "9          11  SINGLE FAMILY  1/11/2013       72000             No   \n",
       "\n",
       "  Multiple Parcels Involved in Sale                 Address  Acreage  \\\n",
       "0                                No        1802  STEWART PL     0.17   \n",
       "1                                No       2761  ROSEDALE PL     0.11   \n",
       "2                                No       224  PEACHTREE ST     0.17   \n",
       "3                                No           316  LUTIE ST     0.34   \n",
       "4                                No        2626  FOSTER AVE     0.17   \n",
       "5                                No         501  MORTON AVE     0.20   \n",
       "6                                No         501  MORTON AVE     0.20   \n",
       "7                                No           113  NEESE DR     0.40   \n",
       "8                                No        184  WHEELER AVE     0.34   \n",
       "9                                No  238  ELYSIAN FIELDS RD     0.23   \n",
       "\n",
       "   Land Value  Building Value  Total Value  Finished Area  Year Built  \\\n",
       "0       32000          134400       168300     1149.00000        1941   \n",
       "1       34000          157800       191800     2090.82495        2000   \n",
       "2       25000          243700       268700     2145.60001        1948   \n",
       "3       25000          138100       164800     1969.00000        1910   \n",
       "4       25000           86100       113300     1037.00000        1945   \n",
       "5       16000           68100        84300     1216.00000        1932   \n",
       "6       16000           68100        84300     1216.00000        1932   \n",
       "7       25000           57100        88400     1152.00000        1945   \n",
       "8       25000           80100       105100     1300.00000        1955   \n",
       "9       21500           87900       109400     1175.00000        1968   \n",
       "\n",
       "  Exterior Wall Grade  Bedrooms  Full Bath  Half Bath  \n",
       "0         BRICK  C          2.0        1.0        0.0  \n",
       "1   BRICK/FRAME  C          3.0        2.0        1.0  \n",
       "2   BRICK/FRAME  B          4.0        2.0        0.0  \n",
       "3         FRAME  C          2.0        1.0        0.0  \n",
       "4         FRAME  C          2.0        1.0        0.0  \n",
       "5         FRAME  D          2.0        1.0        0.0  \n",
       "6         FRAME  D          2.0        1.0        0.0  \n",
       "7         FRAME  C          2.0        1.0        0.0  \n",
       "8         BRICK  C          2.0        1.0        0.0  \n",
       "9         BRICK  C          3.0        1.0        1.0  "
      ]
     },
     "execution_count": 138,
     "metadata": {},
     "output_type": "execute_result"
    }
   ],
   "source": [
    "df.head(10)"
   ]
  },
  {
   "cell_type": "code",
   "execution_count": 139,
   "id": "c81487e8",
   "metadata": {
    "scrolled": true
   },
   "outputs": [
    {
     "name": "stdout",
     "output_type": "stream",
     "text": [
      "<class 'pandas.core.frame.DataFrame'>\n",
      "RangeIndex: 23542 entries, 0 to 23541\n",
      "Data columns (total 18 columns):\n",
      "Unnamed: 0                           23542 non-null int64\n",
      "Land Use                             23542 non-null object\n",
      "Sale Date                            23542 non-null object\n",
      "Sale Price                           23542 non-null int64\n",
      "Sold As Vacant                       23542 non-null object\n",
      "Multiple Parcels Involved in Sale    23542 non-null object\n",
      "Address                              23542 non-null object\n",
      "Acreage                              23542 non-null float64\n",
      "Land Value                           23542 non-null int64\n",
      "Building Value                       23542 non-null int64\n",
      "Total Value                          23542 non-null int64\n",
      "Finished Area                        23541 non-null float64\n",
      "Year Built                           23542 non-null int64\n",
      "Exterior Wall                        23542 non-null object\n",
      "Grade                                23542 non-null object\n",
      "Bedrooms                             23537 non-null float64\n",
      "Full Bath                            23539 non-null float64\n",
      "Half Bath                            23408 non-null float64\n",
      "dtypes: float64(5), int64(6), object(7)\n",
      "memory usage: 3.2+ MB\n"
     ]
    }
   ],
   "source": [
    "df.info()"
   ]
  },
  {
   "cell_type": "code",
   "execution_count": 140,
   "id": "61df6db6",
   "metadata": {},
   "outputs": [],
   "source": [
    "df = df.drop('Unnamed: 0', axis = 1)"
   ]
  },
  {
   "cell_type": "code",
   "execution_count": 141,
   "id": "8b8d3e43",
   "metadata": {
    "scrolled": true
   },
   "outputs": [
    {
     "name": "stdout",
     "output_type": "stream",
     "text": [
      "Land Use : 19\n",
      "Sale Date : 1047\n",
      "Sale Price : 3617\n",
      "Sold As Vacant : 2\n",
      "Multiple Parcels Involved in Sale : 2\n",
      "Address : 20308\n",
      "Acreage : 395\n",
      "Land Value : 826\n",
      "Building Value : 3974\n",
      "Total Value : 5197\n",
      "Finished Area : 5677\n",
      "Year Built : 125\n",
      "Exterior Wall : 9\n",
      "Grade : 4\n",
      "Bedrooms : 10\n",
      "Full Bath : 9\n",
      "Half Bath : 4\n"
     ]
    }
   ],
   "source": [
    "#column names and unique values\n",
    "for i in df.columns:\n",
    "    print(i, ':', df[i].nunique())"
   ]
  },
  {
   "cell_type": "code",
   "execution_count": 142,
   "id": "94856872",
   "metadata": {
    "scrolled": true
   },
   "outputs": [
    {
     "name": "stdout",
     "output_type": "stream",
     "text": [
      "Land Use : 0\n",
      "Sale Date : 0\n",
      "Sale Price : 0\n",
      "Sold As Vacant : 0\n",
      "Multiple Parcels Involved in Sale : 0\n",
      "Address : 0\n",
      "Acreage : 0\n",
      "Land Value : 0\n",
      "Building Value : 0\n",
      "Total Value : 0\n",
      "Finished Area : 1\n",
      "Year Built : 0\n",
      "Exterior Wall : 0\n",
      "Grade : 0\n",
      "Bedrooms : 5\n",
      "Full Bath : 3\n",
      "Half Bath : 134\n"
     ]
    }
   ],
   "source": [
    "# removing null value\n",
    "for i in df.columns:\n",
    "    print(i, ':', df[i].isnull().sum())"
   ]
  },
  {
   "cell_type": "code",
   "execution_count": 143,
   "id": "053ee6a9",
   "metadata": {},
   "outputs": [],
   "source": [
    "#Modify the missing values\n",
    "df['Bedrooms'] = df['Bedrooms'].fillna(df['Bedrooms'].median()) \n",
    "df['Full Bath'] = df['Full Bath'].fillna(df['Full Bath'].median())\n",
    "df['Finished Area'] = df['Finished Area'].fillna(df['Finished Area'].mean()) \n",
    "df['Half Bath'] = df['Half Bath'].fillna(df['Half Bath'].median())"
   ]
  },
  {
   "cell_type": "code",
   "execution_count": 144,
   "id": "1dabbdf6",
   "metadata": {},
   "outputs": [
    {
     "data": {
      "text/html": [
       "<div>\n",
       "<style scoped>\n",
       "    .dataframe tbody tr th:only-of-type {\n",
       "        vertical-align: middle;\n",
       "    }\n",
       "\n",
       "    .dataframe tbody tr th {\n",
       "        vertical-align: top;\n",
       "    }\n",
       "\n",
       "    .dataframe thead th {\n",
       "        text-align: right;\n",
       "    }\n",
       "</style>\n",
       "<table border=\"1\" class=\"dataframe\">\n",
       "  <thead>\n",
       "    <tr style=\"text-align: right;\">\n",
       "      <th></th>\n",
       "      <th>Sale Price</th>\n",
       "      <th>Acreage</th>\n",
       "      <th>Land Value</th>\n",
       "      <th>Building Value</th>\n",
       "      <th>Total Value</th>\n",
       "      <th>Finished Area</th>\n",
       "      <th>Year Built</th>\n",
       "      <th>Bedrooms</th>\n",
       "      <th>Full Bath</th>\n",
       "      <th>Half Bath</th>\n",
       "    </tr>\n",
       "  </thead>\n",
       "  <tbody>\n",
       "    <tr>\n",
       "      <th>count</th>\n",
       "      <td>2.354200e+04</td>\n",
       "      <td>23542.000000</td>\n",
       "      <td>2.354200e+04</td>\n",
       "      <td>2.354200e+04</td>\n",
       "      <td>2.354200e+04</td>\n",
       "      <td>23542.000000</td>\n",
       "      <td>23542.000000</td>\n",
       "      <td>23542.000000</td>\n",
       "      <td>23542.00000</td>\n",
       "      <td>23542.000000</td>\n",
       "    </tr>\n",
       "    <tr>\n",
       "      <th>mean</th>\n",
       "      <td>2.504986e+05</td>\n",
       "      <td>0.428940</td>\n",
       "      <td>6.102985e+04</td>\n",
       "      <td>1.537065e+05</td>\n",
       "      <td>2.170748e+05</td>\n",
       "      <td>1821.314826</td>\n",
       "      <td>1963.132826</td>\n",
       "      <td>3.062824</td>\n",
       "      <td>1.84054</td>\n",
       "      <td>0.266885</td>\n",
       "    </tr>\n",
       "    <tr>\n",
       "      <th>std</th>\n",
       "      <td>2.280727e+05</td>\n",
       "      <td>0.748937</td>\n",
       "      <td>7.895385e+04</td>\n",
       "      <td>1.200548e+05</td>\n",
       "      <td>1.758392e+05</td>\n",
       "      <td>860.878475</td>\n",
       "      <td>26.118291</td>\n",
       "      <td>0.808552</td>\n",
       "      <td>0.86011</td>\n",
       "      <td>0.461976</td>\n",
       "    </tr>\n",
       "    <tr>\n",
       "      <th>min</th>\n",
       "      <td>1.000000e+02</td>\n",
       "      <td>0.040000</td>\n",
       "      <td>9.000000e+02</td>\n",
       "      <td>1.600000e+03</td>\n",
       "      <td>1.260000e+04</td>\n",
       "      <td>450.000000</td>\n",
       "      <td>1832.000000</td>\n",
       "      <td>0.000000</td>\n",
       "      <td>0.00000</td>\n",
       "      <td>0.000000</td>\n",
       "    </tr>\n",
       "    <tr>\n",
       "      <th>25%</th>\n",
       "      <td>1.250000e+05</td>\n",
       "      <td>0.190000</td>\n",
       "      <td>2.150000e+04</td>\n",
       "      <td>8.320000e+04</td>\n",
       "      <td>1.090000e+05</td>\n",
       "      <td>1229.250000</td>\n",
       "      <td>1948.000000</td>\n",
       "      <td>3.000000</td>\n",
       "      <td>1.00000</td>\n",
       "      <td>0.000000</td>\n",
       "    </tr>\n",
       "    <tr>\n",
       "      <th>50%</th>\n",
       "      <td>1.810000e+05</td>\n",
       "      <td>0.270000</td>\n",
       "      <td>2.800000e+04</td>\n",
       "      <td>1.156000e+05</td>\n",
       "      <td>1.523000e+05</td>\n",
       "      <td>1612.000000</td>\n",
       "      <td>1960.000000</td>\n",
       "      <td>3.000000</td>\n",
       "      <td>2.00000</td>\n",
       "      <td>0.000000</td>\n",
       "    </tr>\n",
       "    <tr>\n",
       "      <th>75%</th>\n",
       "      <td>3.100000e+05</td>\n",
       "      <td>0.430000</td>\n",
       "      <td>5.200000e+04</td>\n",
       "      <td>1.824000e+05</td>\n",
       "      <td>2.672000e+05</td>\n",
       "      <td>2170.979980</td>\n",
       "      <td>1980.000000</td>\n",
       "      <td>3.000000</td>\n",
       "      <td>2.00000</td>\n",
       "      <td>1.000000</td>\n",
       "    </tr>\n",
       "    <tr>\n",
       "      <th>max</th>\n",
       "      <td>1.075000e+07</td>\n",
       "      <td>47.500000</td>\n",
       "      <td>1.118400e+06</td>\n",
       "      <td>1.469000e+06</td>\n",
       "      <td>1.704300e+06</td>\n",
       "      <td>10788.580080</td>\n",
       "      <td>2017.000000</td>\n",
       "      <td>9.000000</td>\n",
       "      <td>8.00000</td>\n",
       "      <td>3.000000</td>\n",
       "    </tr>\n",
       "  </tbody>\n",
       "</table>\n",
       "</div>"
      ],
      "text/plain": [
       "         Sale Price       Acreage    Land Value  Building Value   Total Value  \\\n",
       "count  2.354200e+04  23542.000000  2.354200e+04    2.354200e+04  2.354200e+04   \n",
       "mean   2.504986e+05      0.428940  6.102985e+04    1.537065e+05  2.170748e+05   \n",
       "std    2.280727e+05      0.748937  7.895385e+04    1.200548e+05  1.758392e+05   \n",
       "min    1.000000e+02      0.040000  9.000000e+02    1.600000e+03  1.260000e+04   \n",
       "25%    1.250000e+05      0.190000  2.150000e+04    8.320000e+04  1.090000e+05   \n",
       "50%    1.810000e+05      0.270000  2.800000e+04    1.156000e+05  1.523000e+05   \n",
       "75%    3.100000e+05      0.430000  5.200000e+04    1.824000e+05  2.672000e+05   \n",
       "max    1.075000e+07     47.500000  1.118400e+06    1.469000e+06  1.704300e+06   \n",
       "\n",
       "       Finished Area    Year Built      Bedrooms    Full Bath     Half Bath  \n",
       "count   23542.000000  23542.000000  23542.000000  23542.00000  23542.000000  \n",
       "mean     1821.314826   1963.132826      3.062824      1.84054      0.266885  \n",
       "std       860.878475     26.118291      0.808552      0.86011      0.461976  \n",
       "min       450.000000   1832.000000      0.000000      0.00000      0.000000  \n",
       "25%      1229.250000   1948.000000      3.000000      1.00000      0.000000  \n",
       "50%      1612.000000   1960.000000      3.000000      2.00000      0.000000  \n",
       "75%      2170.979980   1980.000000      3.000000      2.00000      1.000000  \n",
       "max     10788.580080   2017.000000      9.000000      8.00000      3.000000  "
      ]
     },
     "execution_count": 144,
     "metadata": {},
     "output_type": "execute_result"
    }
   ],
   "source": [
    "df.describe()"
   ]
  },
  {
   "cell_type": "code",
   "execution_count": 145,
   "id": "b5e2a7f1",
   "metadata": {},
   "outputs": [],
   "source": [
    "df['Sale Date'] = pd.to_datetime(df['Sale Date'])"
   ]
  },
  {
   "cell_type": "code",
   "execution_count": 146,
   "id": "f48e71f4",
   "metadata": {},
   "outputs": [],
   "source": [
    "df['Sale Year'] = pd.DatetimeIndex(df['Sale Date']).year\n",
    "df['Sale Month'] = pd.DatetimeIndex(df['Sale Date']).month"
   ]
  },
  {
   "cell_type": "code",
   "execution_count": 147,
   "id": "b7666601",
   "metadata": {},
   "outputs": [],
   "source": [
    "df['House Age'] = df['Sale Year'] - df['Year Built']"
   ]
  },
  {
   "cell_type": "code",
   "execution_count": 148,
   "id": "d5b38cdc",
   "metadata": {},
   "outputs": [],
   "source": [
    "df['Status'] = df['Sale Price'] - df['Total Value']"
   ]
  },
  {
   "cell_type": "code",
   "execution_count": 149,
   "id": "b5d80b8e",
   "metadata": {},
   "outputs": [
    {
     "data": {
      "text/plain": [
       "count    2.354200e+04\n",
       "mean     3.342383e+04\n",
       "std      1.503130e+05\n",
       "min     -1.174900e+06\n",
       "25%     -5.000000e+02\n",
       "50%      2.810000e+04\n",
       "75%      6.910000e+04\n",
       "max      9.838200e+06\n",
       "Name: Status, dtype: float64"
      ]
     },
     "execution_count": 149,
     "metadata": {},
     "output_type": "execute_result"
    }
   ],
   "source": [
    "df['Status'].describe()"
   ]
  },
  {
   "cell_type": "code",
   "execution_count": 150,
   "id": "b1754556",
   "metadata": {},
   "outputs": [
    {
     "data": {
      "text/html": [
       "<div>\n",
       "<style scoped>\n",
       "    .dataframe tbody tr th:only-of-type {\n",
       "        vertical-align: middle;\n",
       "    }\n",
       "\n",
       "    .dataframe tbody tr th {\n",
       "        vertical-align: top;\n",
       "    }\n",
       "\n",
       "    .dataframe thead th {\n",
       "        text-align: right;\n",
       "    }\n",
       "</style>\n",
       "<table border=\"1\" class=\"dataframe\">\n",
       "  <thead>\n",
       "    <tr style=\"text-align: right;\">\n",
       "      <th></th>\n",
       "      <th>Land Use</th>\n",
       "      <th>Sale Date</th>\n",
       "      <th>Sale Price</th>\n",
       "      <th>Sold As Vacant</th>\n",
       "      <th>Multiple Parcels Involved in Sale</th>\n",
       "      <th>Address</th>\n",
       "      <th>Acreage</th>\n",
       "      <th>Land Value</th>\n",
       "      <th>Building Value</th>\n",
       "      <th>Total Value</th>\n",
       "      <th>...</th>\n",
       "      <th>Year Built</th>\n",
       "      <th>Exterior Wall</th>\n",
       "      <th>Grade</th>\n",
       "      <th>Bedrooms</th>\n",
       "      <th>Full Bath</th>\n",
       "      <th>Half Bath</th>\n",
       "      <th>Sale Year</th>\n",
       "      <th>Sale Month</th>\n",
       "      <th>House Age</th>\n",
       "      <th>Status</th>\n",
       "    </tr>\n",
       "  </thead>\n",
       "  <tbody>\n",
       "    <tr>\n",
       "      <th>0</th>\n",
       "      <td>SINGLE FAMILY</td>\n",
       "      <td>2013-01-11</td>\n",
       "      <td>191500</td>\n",
       "      <td>No</td>\n",
       "      <td>No</td>\n",
       "      <td>1802  STEWART PL</td>\n",
       "      <td>0.17</td>\n",
       "      <td>32000</td>\n",
       "      <td>134400</td>\n",
       "      <td>168300</td>\n",
       "      <td>...</td>\n",
       "      <td>1941</td>\n",
       "      <td>BRICK</td>\n",
       "      <td>C</td>\n",
       "      <td>2.0</td>\n",
       "      <td>1.0</td>\n",
       "      <td>0.0</td>\n",
       "      <td>2013</td>\n",
       "      <td>1</td>\n",
       "      <td>72</td>\n",
       "      <td>23200</td>\n",
       "    </tr>\n",
       "    <tr>\n",
       "      <th>1</th>\n",
       "      <td>SINGLE FAMILY</td>\n",
       "      <td>2013-01-18</td>\n",
       "      <td>202000</td>\n",
       "      <td>No</td>\n",
       "      <td>No</td>\n",
       "      <td>2761  ROSEDALE PL</td>\n",
       "      <td>0.11</td>\n",
       "      <td>34000</td>\n",
       "      <td>157800</td>\n",
       "      <td>191800</td>\n",
       "      <td>...</td>\n",
       "      <td>2000</td>\n",
       "      <td>BRICK/FRAME</td>\n",
       "      <td>C</td>\n",
       "      <td>3.0</td>\n",
       "      <td>2.0</td>\n",
       "      <td>1.0</td>\n",
       "      <td>2013</td>\n",
       "      <td>1</td>\n",
       "      <td>13</td>\n",
       "      <td>10200</td>\n",
       "    </tr>\n",
       "    <tr>\n",
       "      <th>2</th>\n",
       "      <td>SINGLE FAMILY</td>\n",
       "      <td>2013-01-18</td>\n",
       "      <td>32000</td>\n",
       "      <td>No</td>\n",
       "      <td>No</td>\n",
       "      <td>224  PEACHTREE ST</td>\n",
       "      <td>0.17</td>\n",
       "      <td>25000</td>\n",
       "      <td>243700</td>\n",
       "      <td>268700</td>\n",
       "      <td>...</td>\n",
       "      <td>1948</td>\n",
       "      <td>BRICK/FRAME</td>\n",
       "      <td>B</td>\n",
       "      <td>4.0</td>\n",
       "      <td>2.0</td>\n",
       "      <td>0.0</td>\n",
       "      <td>2013</td>\n",
       "      <td>1</td>\n",
       "      <td>65</td>\n",
       "      <td>-236700</td>\n",
       "    </tr>\n",
       "    <tr>\n",
       "      <th>3</th>\n",
       "      <td>SINGLE FAMILY</td>\n",
       "      <td>2013-01-23</td>\n",
       "      <td>102000</td>\n",
       "      <td>No</td>\n",
       "      <td>No</td>\n",
       "      <td>316  LUTIE ST</td>\n",
       "      <td>0.34</td>\n",
       "      <td>25000</td>\n",
       "      <td>138100</td>\n",
       "      <td>164800</td>\n",
       "      <td>...</td>\n",
       "      <td>1910</td>\n",
       "      <td>FRAME</td>\n",
       "      <td>C</td>\n",
       "      <td>2.0</td>\n",
       "      <td>1.0</td>\n",
       "      <td>0.0</td>\n",
       "      <td>2013</td>\n",
       "      <td>1</td>\n",
       "      <td>103</td>\n",
       "      <td>-62800</td>\n",
       "    </tr>\n",
       "    <tr>\n",
       "      <th>4</th>\n",
       "      <td>SINGLE FAMILY</td>\n",
       "      <td>2013-01-04</td>\n",
       "      <td>93736</td>\n",
       "      <td>No</td>\n",
       "      <td>No</td>\n",
       "      <td>2626  FOSTER AVE</td>\n",
       "      <td>0.17</td>\n",
       "      <td>25000</td>\n",
       "      <td>86100</td>\n",
       "      <td>113300</td>\n",
       "      <td>...</td>\n",
       "      <td>1945</td>\n",
       "      <td>FRAME</td>\n",
       "      <td>C</td>\n",
       "      <td>2.0</td>\n",
       "      <td>1.0</td>\n",
       "      <td>0.0</td>\n",
       "      <td>2013</td>\n",
       "      <td>1</td>\n",
       "      <td>68</td>\n",
       "      <td>-19564</td>\n",
       "    </tr>\n",
       "  </tbody>\n",
       "</table>\n",
       "<p>5 rows × 21 columns</p>\n",
       "</div>"
      ],
      "text/plain": [
       "        Land Use  Sale Date  Sale Price Sold As Vacant  \\\n",
       "0  SINGLE FAMILY 2013-01-11      191500             No   \n",
       "1  SINGLE FAMILY 2013-01-18      202000             No   \n",
       "2  SINGLE FAMILY 2013-01-18       32000             No   \n",
       "3  SINGLE FAMILY 2013-01-23      102000             No   \n",
       "4  SINGLE FAMILY 2013-01-04       93736             No   \n",
       "\n",
       "  Multiple Parcels Involved in Sale            Address  Acreage  Land Value  \\\n",
       "0                                No   1802  STEWART PL     0.17       32000   \n",
       "1                                No  2761  ROSEDALE PL     0.11       34000   \n",
       "2                                No  224  PEACHTREE ST     0.17       25000   \n",
       "3                                No      316  LUTIE ST     0.34       25000   \n",
       "4                                No   2626  FOSTER AVE     0.17       25000   \n",
       "\n",
       "   Building Value  Total Value  ...  Year Built  Exterior Wall Grade Bedrooms  \\\n",
       "0          134400       168300  ...        1941          BRICK  C         2.0   \n",
       "1          157800       191800  ...        2000    BRICK/FRAME  C         3.0   \n",
       "2          243700       268700  ...        1948    BRICK/FRAME  B         4.0   \n",
       "3          138100       164800  ...        1910          FRAME  C         2.0   \n",
       "4           86100       113300  ...        1945          FRAME  C         2.0   \n",
       "\n",
       "   Full Bath  Half Bath  Sale Year  Sale Month  House Age  Status  \n",
       "0        1.0        0.0       2013           1         72   23200  \n",
       "1        2.0        1.0       2013           1         13   10200  \n",
       "2        2.0        0.0       2013           1         65 -236700  \n",
       "3        1.0        0.0       2013           1        103  -62800  \n",
       "4        1.0        0.0       2013           1         68  -19564  \n",
       "\n",
       "[5 rows x 21 columns]"
      ]
     },
     "execution_count": 150,
     "metadata": {},
     "output_type": "execute_result"
    }
   ],
   "source": [
    "df.head(5)"
   ]
  },
  {
   "cell_type": "markdown",
   "id": "b10d7c2c",
   "metadata": {},
   "source": [
    "#### Analysis"
   ]
  },
  {
   "cell_type": "code",
   "execution_count": 151,
   "id": "035d7b2e",
   "metadata": {},
   "outputs": [
    {
     "data": {
      "text/plain": [
       "<matplotlib.axes._subplots.AxesSubplot at 0x21c38b09940>"
      ]
     },
     "execution_count": 151,
     "metadata": {},
     "output_type": "execute_result"
    },
    {
     "data": {
      "image/png": "[encoded data removed]",
      "text/plain": [
       "<Figure size 432x288 with 1 Axes>"
      ]
     },
     "metadata": {
      "needs_background": "light"
     },
     "output_type": "display_data"
    }
   ],
   "source": [
    "df.groupby(['Sale Year'])['Sale Price'].mean().plot.bar()"
   ]
  },
  {
   "cell_type": "code",
   "execution_count": 152,
   "id": "dcef1d8d",
   "metadata": {
    "scrolled": true
   },
   "outputs": [
    {
     "name": "stdout",
     "output_type": "stream",
     "text": [
      "<class 'pandas.core.frame.DataFrame'>\n",
      "RangeIndex: 23542 entries, 0 to 23541\n",
      "Data columns (total 21 columns):\n",
      "Land Use                             23542 non-null object\n",
      "Sale Date                            23542 non-null datetime64[ns]\n",
      "Sale Price                           23542 non-null int64\n",
      "Sold As Vacant                       23542 non-null object\n",
      "Multiple Parcels Involved in Sale    23542 non-null object\n",
      "Address                              23542 non-null object\n",
      "Acreage                              23542 non-null float64\n",
      "Land Value                           23542 non-null int64\n",
      "Building Value                       23542 non-null int64\n",
      "Total Value                          23542 non-null int64\n",
      "Finished Area                        23542 non-null float64\n",
      "Year Built                           23542 non-null int64\n",
      "Exterior Wall                        23542 non-null object\n",
      "Grade                                23542 non-null object\n",
      "Bedrooms                             23542 non-null float64\n",
      "Full Bath                            23542 non-null float64\n",
      "Half Bath                            23542 non-null float64\n",
      "Sale Year                            23542 non-null int64\n",
      "Sale Month                           23542 non-null int64\n",
      "House Age                            23542 non-null int64\n",
      "Status                               23542 non-null int64\n",
      "dtypes: datetime64[ns](1), float64(5), int64(9), object(6)\n",
      "memory usage: 3.8+ MB\n"
     ]
    }
   ],
   "source": [
    "df.info()"
   ]
  },
  {
   "cell_type": "code",
   "execution_count": 153,
   "id": "53cb68a1",
   "metadata": {},
   "outputs": [],
   "source": [
    "df_1 = df.copy()"
   ]
  },
  {
   "cell_type": "markdown",
   "id": "11e545b9",
   "metadata": {},
   "source": [
    "#### Dummy Variables"
   ]
  },
  {
   "cell_type": "code",
   "execution_count": 154,
   "id": "24a611d8",
   "metadata": {},
   "outputs": [],
   "source": [
    "df_1 = pd.get_dummies(df_1, columns = ['Land Use', 'Sold As Vacant', 'Multiple Parcels Involved in Sale', 'Exterior Wall', 'Grade'])"
   ]
  },
  {
   "cell_type": "code",
   "execution_count": 155,
   "id": "1d2f1776",
   "metadata": {
    "scrolled": true
   },
   "outputs": [
    {
     "name": "stdout",
     "output_type": "stream",
     "text": [
      "<class 'pandas.core.frame.DataFrame'>\n",
      "RangeIndex: 23542 entries, 0 to 23541\n",
      "Data columns (total 52 columns):\n",
      "Sale Date                                    23542 non-null datetime64[ns]\n",
      "Sale Price                                   23542 non-null int64\n",
      "Address                                      23542 non-null object\n",
      "Acreage                                      23542 non-null float64\n",
      "Land Value                                   23542 non-null int64\n",
      "Building Value                               23542 non-null int64\n",
      "Total Value                                  23542 non-null int64\n",
      "Finished Area                                23542 non-null float64\n",
      "Year Built                                   23542 non-null int64\n",
      "Bedrooms                                     23542 non-null float64\n",
      "Full Bath                                    23542 non-null float64\n",
      "Half Bath                                    23542 non-null float64\n",
      "Sale Year                                    23542 non-null int64\n",
      "Sale Month                                   23542 non-null int64\n",
      "House Age                                    23542 non-null int64\n",
      "Status                                       23542 non-null int64\n",
      "Land Use_CHURCH                              23542 non-null uint8\n",
      "Land Use_DAY CARE CENTER                     23542 non-null uint8\n",
      "Land Use_DORMITORY/BOARDING HOUSE            23542 non-null uint8\n",
      "Land Use_DUPLEX                              23542 non-null uint8\n",
      "Land Use_FOREST                              23542 non-null uint8\n",
      "Land Use_GREENBELT                           23542 non-null uint8\n",
      "Land Use_GREENBELT/RES\r\n",
      "GRRENBELT/RES        23542 non-null uint8\n",
      "Land Use_MOBILE HOME                         23542 non-null uint8\n",
      "Land Use_NON-PROFIT CHARITABLE SERVICE       23542 non-null uint8\n",
      "Land Use_OFFICE BLDG (ONE OR TWO STORIES)    23542 non-null uint8\n",
      "Land Use_PARSONAGE                           23542 non-null uint8\n",
      "Land Use_QUADPLEX                            23542 non-null uint8\n",
      "Land Use_RESIDENTIAL COMBO/MISC              23542 non-null uint8\n",
      "Land Use_SINGLE FAMILY                       23542 non-null uint8\n",
      "Land Use_SPLIT CLASS                         23542 non-null uint8\n",
      "Land Use_TRIPLEX                             23542 non-null uint8\n",
      "Land Use_VACANT RES LAND                     23542 non-null uint8\n",
      "Land Use_VACANT RESIDENTIAL LAND             23542 non-null uint8\n",
      "Land Use_ZERO LOT LINE                       23542 non-null uint8\n",
      "Sold As Vacant_No                            23542 non-null uint8\n",
      "Sold As Vacant_Yes                           23542 non-null uint8\n",
      "Multiple Parcels Involved in Sale_No         23542 non-null uint8\n",
      "Multiple Parcels Involved in Sale_Yes        23542 non-null uint8\n",
      "Exterior Wall_BRICK                          23542 non-null uint8\n",
      "Exterior Wall_BRICK/FRAME                    23542 non-null uint8\n",
      "Exterior Wall_CONC BLK                       23542 non-null uint8\n",
      "Exterior Wall_FRAME                          23542 non-null uint8\n",
      "Exterior Wall_FRAME/STONE                    23542 non-null uint8\n",
      "Exterior Wall_LOG                            23542 non-null uint8\n",
      "Exterior Wall_METAL                          23542 non-null uint8\n",
      "Exterior Wall_STONE                          23542 non-null uint8\n",
      "Exterior Wall_STUCCO                         23542 non-null uint8\n",
      "Grade_A                                      23542 non-null uint8\n",
      "Grade_B                                      23542 non-null uint8\n",
      "Grade_C                                      23542 non-null uint8\n",
      "Grade_D                                      23542 non-null uint8\n",
      "dtypes: datetime64[ns](1), float64(5), int64(9), object(1), uint8(36)\n",
      "memory usage: 3.7+ MB\n"
     ]
    }
   ],
   "source": [
    "df_1.info()"
   ]
  },
  {
   "cell_type": "code",
   "execution_count": 156,
   "id": "04c28408",
   "metadata": {},
   "outputs": [],
   "source": [
    "df_1 = df_1.drop('Address', axis = 1)"
   ]
  },
  {
   "cell_type": "code",
   "execution_count": 157,
   "id": "5bd11c37",
   "metadata": {},
   "outputs": [
    {
     "data": {
      "text/html": [
       "<div>\n",
       "<style scoped>\n",
       "    .dataframe tbody tr th:only-of-type {\n",
       "        vertical-align: middle;\n",
       "    }\n",
       "\n",
       "    .dataframe tbody tr th {\n",
       "        vertical-align: top;\n",
       "    }\n",
       "\n",
       "    .dataframe thead th {\n",
       "        text-align: right;\n",
       "    }\n",
       "</style>\n",
       "<table border=\"1\" class=\"dataframe\">\n",
       "  <thead>\n",
       "    <tr style=\"text-align: right;\">\n",
       "      <th></th>\n",
       "      <th>Sale Date</th>\n",
       "      <th>Sale Price</th>\n",
       "      <th>Acreage</th>\n",
       "      <th>Land Value</th>\n",
       "      <th>Building Value</th>\n",
       "      <th>Total Value</th>\n",
       "      <th>Finished Area</th>\n",
       "      <th>Year Built</th>\n",
       "      <th>Bedrooms</th>\n",
       "      <th>Full Bath</th>\n",
       "      <th>...</th>\n",
       "      <th>Exterior Wall_FRAME</th>\n",
       "      <th>Exterior Wall_FRAME/STONE</th>\n",
       "      <th>Exterior Wall_LOG</th>\n",
       "      <th>Exterior Wall_METAL</th>\n",
       "      <th>Exterior Wall_STONE</th>\n",
       "      <th>Exterior Wall_STUCCO</th>\n",
       "      <th>Grade_A</th>\n",
       "      <th>Grade_B</th>\n",
       "      <th>Grade_C</th>\n",
       "      <th>Grade_D</th>\n",
       "    </tr>\n",
       "  </thead>\n",
       "  <tbody>\n",
       "    <tr>\n",
       "      <th>0</th>\n",
       "      <td>2013-01-11</td>\n",
       "      <td>191500</td>\n",
       "      <td>0.17</td>\n",
       "      <td>32000</td>\n",
       "      <td>134400</td>\n",
       "      <td>168300</td>\n",
       "      <td>1149.00000</td>\n",
       "      <td>1941</td>\n",
       "      <td>2.0</td>\n",
       "      <td>1.0</td>\n",
       "      <td>...</td>\n",
       "      <td>0</td>\n",
       "      <td>0</td>\n",
       "      <td>0</td>\n",
       "      <td>0</td>\n",
       "      <td>0</td>\n",
       "      <td>0</td>\n",
       "      <td>0</td>\n",
       "      <td>0</td>\n",
       "      <td>1</td>\n",
       "      <td>0</td>\n",
       "    </tr>\n",
       "    <tr>\n",
       "      <th>1</th>\n",
       "      <td>2013-01-18</td>\n",
       "      <td>202000</td>\n",
       "      <td>0.11</td>\n",
       "      <td>34000</td>\n",
       "      <td>157800</td>\n",
       "      <td>191800</td>\n",
       "      <td>2090.82495</td>\n",
       "      <td>2000</td>\n",
       "      <td>3.0</td>\n",
       "      <td>2.0</td>\n",
       "      <td>...</td>\n",
       "      <td>0</td>\n",
       "      <td>0</td>\n",
       "      <td>0</td>\n",
       "      <td>0</td>\n",
       "      <td>0</td>\n",
       "      <td>0</td>\n",
       "      <td>0</td>\n",
       "      <td>0</td>\n",
       "      <td>1</td>\n",
       "      <td>0</td>\n",
       "    </tr>\n",
       "    <tr>\n",
       "      <th>2</th>\n",
       "      <td>2013-01-18</td>\n",
       "      <td>32000</td>\n",
       "      <td>0.17</td>\n",
       "      <td>25000</td>\n",
       "      <td>243700</td>\n",
       "      <td>268700</td>\n",
       "      <td>2145.60001</td>\n",
       "      <td>1948</td>\n",
       "      <td>4.0</td>\n",
       "      <td>2.0</td>\n",
       "      <td>...</td>\n",
       "      <td>0</td>\n",
       "      <td>0</td>\n",
       "      <td>0</td>\n",
       "      <td>0</td>\n",
       "      <td>0</td>\n",
       "      <td>0</td>\n",
       "      <td>0</td>\n",
       "      <td>1</td>\n",
       "      <td>0</td>\n",
       "      <td>0</td>\n",
       "    </tr>\n",
       "    <tr>\n",
       "      <th>3</th>\n",
       "      <td>2013-01-23</td>\n",
       "      <td>102000</td>\n",
       "      <td>0.34</td>\n",
       "      <td>25000</td>\n",
       "      <td>138100</td>\n",
       "      <td>164800</td>\n",
       "      <td>1969.00000</td>\n",
       "      <td>1910</td>\n",
       "      <td>2.0</td>\n",
       "      <td>1.0</td>\n",
       "      <td>...</td>\n",
       "      <td>1</td>\n",
       "      <td>0</td>\n",
       "      <td>0</td>\n",
       "      <td>0</td>\n",
       "      <td>0</td>\n",
       "      <td>0</td>\n",
       "      <td>0</td>\n",
       "      <td>0</td>\n",
       "      <td>1</td>\n",
       "      <td>0</td>\n",
       "    </tr>\n",
       "    <tr>\n",
       "      <th>4</th>\n",
       "      <td>2013-01-04</td>\n",
       "      <td>93736</td>\n",
       "      <td>0.17</td>\n",
       "      <td>25000</td>\n",
       "      <td>86100</td>\n",
       "      <td>113300</td>\n",
       "      <td>1037.00000</td>\n",
       "      <td>1945</td>\n",
       "      <td>2.0</td>\n",
       "      <td>1.0</td>\n",
       "      <td>...</td>\n",
       "      <td>1</td>\n",
       "      <td>0</td>\n",
       "      <td>0</td>\n",
       "      <td>0</td>\n",
       "      <td>0</td>\n",
       "      <td>0</td>\n",
       "      <td>0</td>\n",
       "      <td>0</td>\n",
       "      <td>1</td>\n",
       "      <td>0</td>\n",
       "    </tr>\n",
       "  </tbody>\n",
       "</table>\n",
       "<p>5 rows × 51 columns</p>\n",
       "</div>"
      ],
      "text/plain": [
       "   Sale Date  Sale Price  Acreage  Land Value  Building Value  Total Value  \\\n",
       "0 2013-01-11      191500     0.17       32000          134400       168300   \n",
       "1 2013-01-18      202000     0.11       34000          157800       191800   \n",
       "2 2013-01-18       32000     0.17       25000          243700       268700   \n",
       "3 2013-01-23      102000     0.34       25000          138100       164800   \n",
       "4 2013-01-04       93736     0.17       25000           86100       113300   \n",
       "\n",
       "   Finished Area  Year Built  Bedrooms  Full Bath  ...  Exterior Wall_FRAME  \\\n",
       "0     1149.00000        1941       2.0        1.0  ...                    0   \n",
       "1     2090.82495        2000       3.0        2.0  ...                    0   \n",
       "2     2145.60001        1948       4.0        2.0  ...                    0   \n",
       "3     1969.00000        1910       2.0        1.0  ...                    1   \n",
       "4     1037.00000        1945       2.0        1.0  ...                    1   \n",
       "\n",
       "   Exterior Wall_FRAME/STONE  Exterior Wall_LOG  Exterior Wall_METAL  \\\n",
       "0                          0                  0                    0   \n",
       "1                          0                  0                    0   \n",
       "2                          0                  0                    0   \n",
       "3                          0                  0                    0   \n",
       "4                          0                  0                    0   \n",
       "\n",
       "   Exterior Wall_STONE  Exterior Wall_STUCCO  Grade_A     Grade_B     \\\n",
       "0                    0                     0           0           0   \n",
       "1                    0                     0           0           0   \n",
       "2                    0                     0           0           1   \n",
       "3                    0                     0           0           0   \n",
       "4                    0                     0           0           0   \n",
       "\n",
       "   Grade_C     Grade_D     \n",
       "0           1           0  \n",
       "1           1           0  \n",
       "2           0           0  \n",
       "3           1           0  \n",
       "4           1           0  \n",
       "\n",
       "[5 rows x 51 columns]"
      ]
     },
     "execution_count": 157,
     "metadata": {},
     "output_type": "execute_result"
    }
   ],
   "source": [
    "df_1.head(5)"
   ]
  },
  {
   "cell_type": "code",
   "execution_count": 158,
   "id": "66d581c3",
   "metadata": {},
   "outputs": [],
   "source": [
    "df_1 = df_1.drop(columns=['Sale Date', 'Sale Price'], axis = 1)"
   ]
  },
  {
   "cell_type": "markdown",
   "id": "7e846661",
   "metadata": {},
   "source": [
    "#### Scaling of data"
   ]
  },
  {
   "cell_type": "code",
   "execution_count": 159,
   "id": "4421f54e",
   "metadata": {},
   "outputs": [],
   "source": [
    "status_mean = df_1['Status'].mean()"
   ]
  },
  {
   "cell_type": "code",
   "execution_count": 160,
   "id": "265567b5",
   "metadata": {},
   "outputs": [],
   "source": [
    "StandardScaler_X = StandardScaler()\n",
    "StandardScaler_y = StandardScaler()"
   ]
  },
  {
   "cell_type": "code",
   "execution_count": 161,
   "id": "a194a6aa",
   "metadata": {},
   "outputs": [],
   "source": [
    "df_1.loc[df_1['Status'] < status_mean, ('Status')] = 0\n",
    "df_1.loc[df_1['Status'] >= status_mean, ('Status')] = 1"
   ]
  },
  {
   "cell_type": "code",
   "execution_count": 162,
   "id": "d238ab3b",
   "metadata": {},
   "outputs": [
    {
     "data": {
      "text/plain": [
       "0    12798\n",
       "1    10744\n",
       "Name: Status, dtype: int64"
      ]
     },
     "execution_count": 162,
     "metadata": {},
     "output_type": "execute_result"
    }
   ],
   "source": [
    "df_1['Status'].value_counts()"
   ]
  },
  {
   "cell_type": "code",
   "execution_count": 164,
   "id": "f1e6d2df",
   "metadata": {},
   "outputs": [],
   "source": [
    "y = df_1['Status']\n",
    "X = df_1.drop('Status', axis = 1)"
   ]
  },
  {
   "cell_type": "code",
   "execution_count": 165,
   "id": "f0ce5d62",
   "metadata": {},
   "outputs": [],
   "source": [
    "X = StandardScaler_X.fit_transform(X)"
   ]
  },
  {
   "cell_type": "code",
   "execution_count": 166,
   "id": "c303c0f0",
   "metadata": {},
   "outputs": [],
   "source": [
    "y = y.values.reshape(1,-1)"
   ]
  },
  {
   "cell_type": "code",
   "execution_count": 167,
   "id": "bad43424",
   "metadata": {},
   "outputs": [],
   "source": [
    "y = np.reshape(y,(-1,1))"
   ]
  },
  {
   "cell_type": "code",
   "execution_count": 168,
   "id": "bc269372",
   "metadata": {},
   "outputs": [
    {
     "data": {
      "text/plain": [
       "(23542, 1)"
      ]
     },
     "execution_count": 168,
     "metadata": {},
     "output_type": "execute_result"
    }
   ],
   "source": [
    "y.shape"
   ]
  },
  {
   "cell_type": "markdown",
   "id": "7b632a73",
   "metadata": {},
   "source": [
    "#### Logistic Regression "
   ]
  },
  {
   "cell_type": "code",
   "execution_count": 169,
   "id": "7eaed222",
   "metadata": {},
   "outputs": [],
   "source": [
    "X_train, X_test, y_train, y_test = train_test_split(X, y, random_state = 10, test_size = 0.2)"
   ]
  },
  {
   "cell_type": "code",
   "execution_count": 170,
   "id": "a6fa6ddf",
   "metadata": {},
   "outputs": [],
   "source": [
    "X_train = pd.DataFrame(X_train)"
   ]
  },
  {
   "cell_type": "code",
   "execution_count": 171,
   "id": "81d7d04b",
   "metadata": {},
   "outputs": [],
   "source": [
    "X_test = pd.DataFrame(X_test)\n",
    "y_train = pd.DataFrame(y_train)\n",
    "y_test = pd.DataFrame(y_test)"
   ]
  },
  {
   "cell_type": "code",
   "execution_count": 179,
   "id": "15f16338",
   "metadata": {},
   "outputs": [],
   "source": [
    "logistic_regression = LogisticRegression()"
   ]
  },
  {
   "cell_type": "code",
   "execution_count": 180,
   "id": "b0ab3245",
   "metadata": {},
   "outputs": [
    {
     "name": "stderr",
     "output_type": "stream",
     "text": [
      "C:\\Users\\shiva\\AppData\\Local\\Continuum\\anaconda3\\lib\\site-packages\\sklearn\\linear_model\\logistic.py:432: FutureWarning: Default solver will be changed to 'lbfgs' in 0.22. Specify a solver to silence this warning.\n",
      "  FutureWarning)\n",
      "C:\\Users\\shiva\\AppData\\Local\\Continuum\\anaconda3\\lib\\site-packages\\sklearn\\utils\\validation.py:724: DataConversionWarning: A column-vector y was passed when a 1d array was expected. Please change the shape of y to (n_samples, ), for example using ravel().\n",
      "  y = column_or_1d(y, warn=True)\n"
     ]
    }
   ],
   "source": [
    "model_logistic = logistic_regression.fit(X_train, y_train)"
   ]
  },
  {
   "cell_type": "code",
   "execution_count": 174,
   "id": "fd29be4b",
   "metadata": {},
   "outputs": [],
   "source": [
    "y_pred = model_logistic.predict(X_test)"
   ]
  },
  {
   "cell_type": "code",
   "execution_count": 182,
   "id": "4538d3b5",
   "metadata": {},
   "outputs": [
    {
     "name": "stdout",
     "output_type": "stream",
     "text": [
      "Accuracy: 72.9%\n",
      "Precision: 69.06%\n",
      "Recall: 70.51%\n",
      "MSE: 27.1%\n"
     ]
    }
   ],
   "source": [
    "from sklearn.metrics import precision_score, recall_score, f1_score, accuracy_score, mean_squared_error\n",
    "print('Accuracy: '+str(round(accuracy_score(y_pred, y_test)*100,2))+'%')\n",
    "print('Precision: '+str(round(precision_score(y_pred, y_test)*100,2))+'%')\n",
    "print('Recall: '+str(round(recall_score(y_pred, y_test)*100,2))+'%')\n",
    "print('MSE: '+str(round(mean_squared_error(y_pred, y_test)*100,2))+'%')"
   ]
  },
  {
   "cell_type": "code",
   "execution_count": 183,
   "id": "3fd18113",
   "metadata": {},
   "outputs": [
    {
     "data": {
      "text/plain": [
       "array([[1960,  616],\n",
       "       [ 660, 1473]], dtype=int64)"
      ]
     },
     "execution_count": 183,
     "metadata": {},
     "output_type": "execute_result"
    }
   ],
   "source": [
    "confusion_matrix(y_test, y_pred)"
   ]
  },
  {
   "cell_type": "code",
   "execution_count": 184,
   "id": "7d4a3081",
   "metadata": {},
   "outputs": [
    {
     "name": "stderr",
     "output_type": "stream",
     "text": [
      "C:\\Users\\shiva\\AppData\\Local\\Continuum\\anaconda3\\lib\\site-packages\\ipykernel_launcher.py:1: DeprecationWarning: Calling Family(..) with a link class as argument is deprecated.\n",
      "Use an instance of a link class instead.\n",
      "  \"\"\"Entry point for launching an IPython kernel.\n"
     ]
    }
   ],
   "source": [
    "glm_1 = sm.GLM(y_train, X_train, family=sm.families.Poisson(link=sm.families.links.log))"
   ]
  },
  {
   "cell_type": "code",
   "execution_count": 185,
   "id": "ef339700",
   "metadata": {},
   "outputs": [],
   "source": [
    "res = glm_1.fit()"
   ]
  },
  {
   "cell_type": "code",
   "execution_count": 186,
   "id": "8fb97ec6",
   "metadata": {
    "scrolled": true
   },
   "outputs": [
    {
     "data": {
      "text/html": [
       "<table class=\"simpletable\">\n",
       "<caption>Generalized Linear Model Regression Results</caption>\n",
       "<tr>\n",
       "  <th>Dep. Variable:</th>           <td>0</td>        <th>  No. Observations:  </th>   <td> 18833</td>   \n",
       "</tr>\n",
       "<tr>\n",
       "  <th>Model:</th>                  <td>GLM</td>       <th>  Df Residuals:      </th>   <td> 18791</td>   \n",
       "</tr>\n",
       "<tr>\n",
       "  <th>Model Family:</th>         <td>Poisson</td>     <th>  Df Model:          </th>   <td>    41</td>   \n",
       "</tr>\n",
       "<tr>\n",
       "  <th>Link Function:</th>          <td>log</td>       <th>  Scale:             </th>  <td>  1.0000</td>  \n",
       "</tr>\n",
       "<tr>\n",
       "  <th>Method:</th>                <td>IRLS</td>       <th>  Log-Likelihood:    </th> <td>-8.0429e+60</td>\n",
       "</tr>\n",
       "<tr>\n",
       "  <th>Date:</th>            <td>Sun, 17 Oct 2021</td> <th>  Deviance:          </th> <td>1.6086e+61</td> \n",
       "</tr>\n",
       "<tr>\n",
       "  <th>Time:</th>                <td>23:35:28</td>     <th>  Pearson chi2:      </th>  <td>8.04e+60</td>  \n",
       "</tr>\n",
       "<tr>\n",
       "  <th>No. Iterations:</th>         <td>100</td>       <th>                     </th>      <td> </td>     \n",
       "</tr>\n",
       "<tr>\n",
       "  <th>Covariance Type:</th>     <td>nonrobust</td>    <th>                     </th>      <td> </td>     \n",
       "</tr>\n",
       "</table>\n",
       "<table class=\"simpletable\">\n",
       "<tr>\n",
       "   <td></td>     <th>coef</th>     <th>std err</th>      <th>z</th>      <th>P>|z|</th>  <th>[0.025</th>    <th>0.975]</th>  \n",
       "</tr>\n",
       "<tr>\n",
       "  <th>0</th>  <td>   -0.0015</td> <td> 5.07e-33</td> <td>-2.94e+29</td> <td> 0.000</td> <td>   -0.001</td> <td>   -0.001</td>\n",
       "</tr>\n",
       "<tr>\n",
       "  <th>1</th>  <td>   -0.0385</td> <td>  2.8e-32</td> <td>-1.37e+30</td> <td> 0.000</td> <td>   -0.038</td> <td>   -0.038</td>\n",
       "</tr>\n",
       "<tr>\n",
       "  <th>2</th>  <td>   -0.0577</td> <td>  5.3e-32</td> <td>-1.09e+30</td> <td> 0.000</td> <td>   -0.058</td> <td>   -0.058</td>\n",
       "</tr>\n",
       "<tr>\n",
       "  <th>3</th>  <td>   -0.0582</td> <td> 5.01e-32</td> <td>-1.16e+30</td> <td> 0.000</td> <td>   -0.058</td> <td>   -0.058</td>\n",
       "</tr>\n",
       "<tr>\n",
       "  <th>4</th>  <td>   -0.0562</td> <td> 4.82e-32</td> <td>-1.16e+30</td> <td> 0.000</td> <td>   -0.056</td> <td>   -0.056</td>\n",
       "</tr>\n",
       "<tr>\n",
       "  <th>5</th>  <td>    0.0406</td> <td> 4.85e-33</td> <td> 8.37e+30</td> <td> 0.000</td> <td>    0.041</td> <td>    0.041</td>\n",
       "</tr>\n",
       "<tr>\n",
       "  <th>6</th>  <td>   -0.0014</td> <td> 2.11e-36</td> <td>-6.52e+32</td> <td> 0.000</td> <td>   -0.001</td> <td>   -0.001</td>\n",
       "</tr>\n",
       "<tr>\n",
       "  <th>7</th>  <td>   -0.0676</td> <td> 7.35e-32</td> <td>-9.19e+29</td> <td> 0.000</td> <td>   -0.068</td> <td>   -0.068</td>\n",
       "</tr>\n",
       "<tr>\n",
       "  <th>8</th>  <td>   -0.0103</td> <td> 1.57e-35</td> <td>-6.52e+32</td> <td> 0.000</td> <td>   -0.010</td> <td>   -0.010</td>\n",
       "</tr>\n",
       "<tr>\n",
       "  <th>9</th>  <td>    0.0635</td> <td> 5.84e-32</td> <td> 1.09e+30</td> <td> 0.000</td> <td>    0.063</td> <td>    0.063</td>\n",
       "</tr>\n",
       "<tr>\n",
       "  <th>10</th> <td>    0.1067</td> <td> 1.02e-31</td> <td> 1.04e+30</td> <td> 0.000</td> <td>    0.107</td> <td>    0.107</td>\n",
       "</tr>\n",
       "<tr>\n",
       "  <th>11</th> <td>   -0.0379</td> <td> 2.42e-33</td> <td>-1.57e+31</td> <td> 0.000</td> <td>   -0.038</td> <td>   -0.038</td>\n",
       "</tr>\n",
       "<tr>\n",
       "  <th>12</th> <td>   -0.0003</td> <td> 5.32e-37</td> <td>-6.52e+32</td> <td> 0.000</td> <td>   -0.000</td> <td>   -0.000</td>\n",
       "</tr>\n",
       "<tr>\n",
       "  <th>13</th> <td>   -0.0001</td> <td> 1.77e-37</td> <td>-6.52e+32</td> <td> 0.000</td> <td>   -0.000</td> <td>   -0.000</td>\n",
       "</tr>\n",
       "<tr>\n",
       "  <th>14</th> <td>   -0.0004</td> <td> 6.64e-37</td> <td>-6.52e+32</td> <td> 0.000</td> <td>   -0.000</td> <td>   -0.000</td>\n",
       "</tr>\n",
       "<tr>\n",
       "  <th>15</th> <td>   -0.0041</td> <td> 6.27e-36</td> <td>-6.52e+32</td> <td> 0.000</td> <td>   -0.004</td> <td>   -0.004</td>\n",
       "</tr>\n",
       "<tr>\n",
       "  <th>16</th> <td>   -0.0002</td> <td> 2.51e-37</td> <td>-6.52e+32</td> <td> 0.000</td> <td>   -0.000</td> <td>   -0.000</td>\n",
       "</tr>\n",
       "<tr>\n",
       "  <th>17</th> <td>   -0.0002</td> <td> 3.55e-37</td> <td>-6.52e+32</td> <td> 0.000</td> <td>   -0.000</td> <td>   -0.000</td>\n",
       "</tr>\n",
       "<tr>\n",
       "  <th>18</th> <td>   -0.0001</td> <td> 1.77e-37</td> <td>-6.52e+32</td> <td> 0.000</td> <td>   -0.000</td> <td>   -0.000</td>\n",
       "</tr>\n",
       "<tr>\n",
       "  <th>19</th> <td>    1.5716</td> <td> 2.41e-33</td> <td> 6.52e+32</td> <td> 0.000</td> <td>    1.572</td> <td>    1.572</td>\n",
       "</tr>\n",
       "<tr>\n",
       "  <th>20</th> <td>   -0.0002</td> <td> 2.51e-37</td> <td>-6.52e+32</td> <td> 0.000</td> <td>   -0.000</td> <td>   -0.000</td>\n",
       "</tr>\n",
       "<tr>\n",
       "  <th>21</th> <td>   -0.0002</td> <td> 2.51e-37</td> <td>-6.52e+32</td> <td> 0.000</td> <td>   -0.000</td> <td>   -0.000</td>\n",
       "</tr>\n",
       "<tr>\n",
       "  <th>22</th> <td>   -0.0003</td> <td> 3.96e-37</td> <td>-6.52e+32</td> <td> 0.000</td> <td>   -0.000</td> <td>   -0.000</td>\n",
       "</tr>\n",
       "<tr>\n",
       "  <th>23</th> <td>   -0.0007</td> <td> 1.03e-36</td> <td>-6.52e+32</td> <td> 0.000</td> <td>   -0.001</td> <td>   -0.001</td>\n",
       "</tr>\n",
       "<tr>\n",
       "  <th>24</th> <td>   -0.0007</td> <td> 1.08e-36</td> <td>-6.52e+32</td> <td> 0.000</td> <td>   -0.001</td> <td>   -0.001</td>\n",
       "</tr>\n",
       "<tr>\n",
       "  <th>25</th> <td>   -0.0494</td> <td> 7.57e-35</td> <td>-6.52e+32</td> <td> 0.000</td> <td>   -0.049</td> <td>   -0.049</td>\n",
       "</tr>\n",
       "<tr>\n",
       "  <th>26</th> <td>   -0.0004</td> <td> 5.88e-37</td> <td>-6.52e+32</td> <td> 0.000</td> <td>   -0.000</td> <td>   -0.000</td>\n",
       "</tr>\n",
       "<tr>\n",
       "  <th>27</th> <td>   -0.0010</td> <td> 1.56e-36</td> <td>-6.52e+32</td> <td> 0.000</td> <td>   -0.001</td> <td>   -0.001</td>\n",
       "</tr>\n",
       "<tr>\n",
       "  <th>28</th> <td>   -0.0017</td> <td> 2.58e-36</td> <td>-6.52e+32</td> <td> 0.000</td> <td>   -0.002</td> <td>   -0.002</td>\n",
       "</tr>\n",
       "<tr>\n",
       "  <th>29</th> <td>   -0.0018</td> <td> 2.81e-36</td> <td>-6.52e+32</td> <td> 0.000</td> <td>   -0.002</td> <td>   -0.002</td>\n",
       "</tr>\n",
       "<tr>\n",
       "  <th>30</th> <td>   -0.0034</td> <td> 5.25e-36</td> <td>-6.52e+32</td> <td> 0.000</td> <td>   -0.003</td> <td>   -0.003</td>\n",
       "</tr>\n",
       "<tr>\n",
       "  <th>31</th> <td>    0.0024</td> <td> 3.68e-36</td> <td> 6.52e+32</td> <td> 0.000</td> <td>    0.002</td> <td>    0.002</td>\n",
       "</tr>\n",
       "<tr>\n",
       "  <th>32</th> <td>   -0.0024</td> <td> 3.68e-36</td> <td>-6.52e+32</td> <td> 0.000</td> <td>   -0.002</td> <td>   -0.002</td>\n",
       "</tr>\n",
       "<tr>\n",
       "  <th>33</th> <td>    0.0029</td> <td> 4.42e-36</td> <td> 6.52e+32</td> <td> 0.000</td> <td>    0.003</td> <td>    0.003</td>\n",
       "</tr>\n",
       "<tr>\n",
       "  <th>34</th> <td>   -0.0029</td> <td> 4.42e-36</td> <td>-6.52e+32</td> <td> 0.000</td> <td>   -0.003</td> <td>   -0.003</td>\n",
       "</tr>\n",
       "<tr>\n",
       "  <th>35</th> <td>   -0.0174</td> <td> 2.67e-35</td> <td>-6.52e+32</td> <td> 0.000</td> <td>   -0.017</td> <td>   -0.017</td>\n",
       "</tr>\n",
       "<tr>\n",
       "  <th>36</th> <td>   -0.0062</td> <td> 9.51e-36</td> <td>-6.52e+32</td> <td> 0.000</td> <td>   -0.006</td> <td>   -0.006</td>\n",
       "</tr>\n",
       "<tr>\n",
       "  <th>37</th> <td>   -0.0012</td> <td> 1.79e-36</td> <td>-6.52e+32</td> <td> 0.000</td> <td>   -0.001</td> <td>   -0.001</td>\n",
       "</tr>\n",
       "<tr>\n",
       "  <th>38</th> <td>    0.0230</td> <td> 3.53e-35</td> <td> 6.52e+32</td> <td> 0.000</td> <td>    0.023</td> <td>    0.023</td>\n",
       "</tr>\n",
       "<tr>\n",
       "  <th>39</th> <td>   -0.0011</td> <td> 1.72e-36</td> <td>-6.52e+32</td> <td> 0.000</td> <td>   -0.001</td> <td>   -0.001</td>\n",
       "</tr>\n",
       "<tr>\n",
       "  <th>40</th> <td>   -0.0004</td> <td> 6.87e-37</td> <td>-6.52e+32</td> <td> 0.000</td> <td>   -0.000</td> <td>   -0.000</td>\n",
       "</tr>\n",
       "<tr>\n",
       "  <th>41</th> <td>   -0.0004</td> <td> 5.88e-37</td> <td>-6.52e+32</td> <td> 0.000</td> <td>   -0.000</td> <td>   -0.000</td>\n",
       "</tr>\n",
       "<tr>\n",
       "  <th>42</th> <td>   -0.0021</td> <td> 3.19e-36</td> <td>-6.52e+32</td> <td> 0.000</td> <td>   -0.002</td> <td>   -0.002</td>\n",
       "</tr>\n",
       "<tr>\n",
       "  <th>43</th> <td>   -0.0013</td> <td> 1.92e-36</td> <td>-6.52e+32</td> <td> 0.000</td> <td>   -0.001</td> <td>   -0.001</td>\n",
       "</tr>\n",
       "<tr>\n",
       "  <th>44</th> <td>   -0.0029</td> <td> 4.39e-36</td> <td>-6.52e+32</td> <td> 0.000</td> <td>   -0.003</td> <td>   -0.003</td>\n",
       "</tr>\n",
       "<tr>\n",
       "  <th>45</th> <td>   -0.0077</td> <td> 1.17e-35</td> <td>-6.52e+32</td> <td> 0.000</td> <td>   -0.008</td> <td>   -0.008</td>\n",
       "</tr>\n",
       "<tr>\n",
       "  <th>46</th> <td>    0.0107</td> <td> 1.64e-35</td> <td> 6.52e+32</td> <td> 0.000</td> <td>    0.011</td> <td>    0.011</td>\n",
       "</tr>\n",
       "<tr>\n",
       "  <th>47</th> <td>   -0.0054</td> <td> 8.25e-36</td> <td>-6.52e+32</td> <td> 0.000</td> <td>   -0.005</td> <td>   -0.005</td>\n",
       "</tr>\n",
       "</table>"
      ],
      "text/plain": [
       "<class 'statsmodels.iolib.summary.Summary'>\n",
       "\"\"\"\n",
       "                 Generalized Linear Model Regression Results                  \n",
       "==============================================================================\n",
       "Dep. Variable:                      0   No. Observations:                18833\n",
       "Model:                            GLM   Df Residuals:                    18791\n",
       "Model Family:                 Poisson   Df Model:                           41\n",
       "Link Function:                    log   Scale:                          1.0000\n",
       "Method:                          IRLS   Log-Likelihood:            -8.0429e+60\n",
       "Date:                Sun, 17 Oct 2021   Deviance:                   1.6086e+61\n",
       "Time:                        23:35:28   Pearson chi2:                 8.04e+60\n",
       "No. Iterations:                   100                                         \n",
       "Covariance Type:            nonrobust                                         \n",
       "==============================================================================\n",
       "                 coef    std err          z      P>|z|      [0.025      0.975]\n",
       "------------------------------------------------------------------------------\n",
       "0             -0.0015   5.07e-33  -2.94e+29      0.000      -0.001      -0.001\n",
       "1             -0.0385    2.8e-32  -1.37e+30      0.000      -0.038      -0.038\n",
       "2             -0.0577    5.3e-32  -1.09e+30      0.000      -0.058      -0.058\n",
       "3             -0.0582   5.01e-32  -1.16e+30      0.000      -0.058      -0.058\n",
       "4             -0.0562   4.82e-32  -1.16e+30      0.000      -0.056      -0.056\n",
       "5              0.0406   4.85e-33   8.37e+30      0.000       0.041       0.041\n",
       "6             -0.0014   2.11e-36  -6.52e+32      0.000      -0.001      -0.001\n",
       "7             -0.0676   7.35e-32  -9.19e+29      0.000      -0.068      -0.068\n",
       "8             -0.0103   1.57e-35  -6.52e+32      0.000      -0.010      -0.010\n",
       "9              0.0635   5.84e-32   1.09e+30      0.000       0.063       0.063\n",
       "10             0.1067   1.02e-31   1.04e+30      0.000       0.107       0.107\n",
       "11            -0.0379   2.42e-33  -1.57e+31      0.000      -0.038      -0.038\n",
       "12            -0.0003   5.32e-37  -6.52e+32      0.000      -0.000      -0.000\n",
       "13            -0.0001   1.77e-37  -6.52e+32      0.000      -0.000      -0.000\n",
       "14            -0.0004   6.64e-37  -6.52e+32      0.000      -0.000      -0.000\n",
       "15            -0.0041   6.27e-36  -6.52e+32      0.000      -0.004      -0.004\n",
       "16            -0.0002   2.51e-37  -6.52e+32      0.000      -0.000      -0.000\n",
       "17            -0.0002   3.55e-37  -6.52e+32      0.000      -0.000      -0.000\n",
       "18            -0.0001   1.77e-37  -6.52e+32      0.000      -0.000      -0.000\n",
       "19             1.5716   2.41e-33   6.52e+32      0.000       1.572       1.572\n",
       "20            -0.0002   2.51e-37  -6.52e+32      0.000      -0.000      -0.000\n",
       "21            -0.0002   2.51e-37  -6.52e+32      0.000      -0.000      -0.000\n",
       "22            -0.0003   3.96e-37  -6.52e+32      0.000      -0.000      -0.000\n",
       "23            -0.0007   1.03e-36  -6.52e+32      0.000      -0.001      -0.001\n",
       "24            -0.0007   1.08e-36  -6.52e+32      0.000      -0.001      -0.001\n",
       "25            -0.0494   7.57e-35  -6.52e+32      0.000      -0.049      -0.049\n",
       "26            -0.0004   5.88e-37  -6.52e+32      0.000      -0.000      -0.000\n",
       "27            -0.0010   1.56e-36  -6.52e+32      0.000      -0.001      -0.001\n",
       "28            -0.0017   2.58e-36  -6.52e+32      0.000      -0.002      -0.002\n",
       "29            -0.0018   2.81e-36  -6.52e+32      0.000      -0.002      -0.002\n",
       "30            -0.0034   5.25e-36  -6.52e+32      0.000      -0.003      -0.003\n",
       "31             0.0024   3.68e-36   6.52e+32      0.000       0.002       0.002\n",
       "32            -0.0024   3.68e-36  -6.52e+32      0.000      -0.002      -0.002\n",
       "33             0.0029   4.42e-36   6.52e+32      0.000       0.003       0.003\n",
       "34            -0.0029   4.42e-36  -6.52e+32      0.000      -0.003      -0.003\n",
       "35            -0.0174   2.67e-35  -6.52e+32      0.000      -0.017      -0.017\n",
       "36            -0.0062   9.51e-36  -6.52e+32      0.000      -0.006      -0.006\n",
       "37            -0.0012   1.79e-36  -6.52e+32      0.000      -0.001      -0.001\n",
       "38             0.0230   3.53e-35   6.52e+32      0.000       0.023       0.023\n",
       "39            -0.0011   1.72e-36  -6.52e+32      0.000      -0.001      -0.001\n",
       "40            -0.0004   6.87e-37  -6.52e+32      0.000      -0.000      -0.000\n",
       "41            -0.0004   5.88e-37  -6.52e+32      0.000      -0.000      -0.000\n",
       "42            -0.0021   3.19e-36  -6.52e+32      0.000      -0.002      -0.002\n",
       "43            -0.0013   1.92e-36  -6.52e+32      0.000      -0.001      -0.001\n",
       "44            -0.0029   4.39e-36  -6.52e+32      0.000      -0.003      -0.003\n",
       "45            -0.0077   1.17e-35  -6.52e+32      0.000      -0.008      -0.008\n",
       "46             0.0107   1.64e-35   6.52e+32      0.000       0.011       0.011\n",
       "47            -0.0054   8.25e-36  -6.52e+32      0.000      -0.005      -0.005\n",
       "==============================================================================\n",
       "\"\"\""
      ]
     },
     "execution_count": 186,
     "metadata": {},
     "output_type": "execute_result"
    }
   ],
   "source": [
    "res.summary()"
   ]
  },
  {
   "cell_type": "code",
   "execution_count": 187,
   "id": "b630c352",
   "metadata": {},
   "outputs": [],
   "source": [
    "p_value = pd.DataFrame(res.pvalues, columns = ['p_value'])\n",
    "coef = pd.DataFrame(res.params, columns = ['coef'])\n",
    "p_coef = pd.concat([coef,p_value], axis = 1)"
   ]
  },
  {
   "cell_type": "code",
   "execution_count": 188,
   "id": "f9918138",
   "metadata": {
    "scrolled": true
   },
   "outputs": [
    {
     "name": "stdout",
     "output_type": "stream",
     "text": [
      "        coef  p_value\n",
      "19  1.571645      0.0\n",
      "10  0.106730      0.0\n",
      "9   0.063453      0.0\n",
      "5   0.040582      0.0\n",
      "38  0.023021      0.0\n",
      "46  0.010702      0.0\n",
      "33  0.002882      0.0\n",
      "31  0.002397      0.0\n",
      "18 -0.000116      0.0\n",
      "13 -0.000116      0.0\n",
      "16 -0.000164      0.0\n",
      "21 -0.000164      0.0\n",
      "20 -0.000164      0.0\n",
      "17 -0.000231      0.0\n",
      "22 -0.000259      0.0\n",
      "12 -0.000347      0.0\n",
      "26 -0.000384      0.0\n",
      "41 -0.000384      0.0\n",
      "14 -0.000433      0.0\n",
      "40 -0.000448      0.0\n",
      "23 -0.000675      0.0\n",
      "24 -0.000704      0.0\n",
      "27 -0.001016      0.0\n",
      "39 -0.001123      0.0\n",
      "37 -0.001165      0.0\n",
      "43 -0.001254      0.0\n",
      "6  -0.001379      0.0\n",
      "0  -0.001488      0.0\n",
      "28 -0.001683      0.0\n",
      "29 -0.001831      0.0\n",
      "42 -0.002079      0.0\n",
      "32 -0.002397      0.0\n",
      "44 -0.002864      0.0\n",
      "34 -0.002882      0.0\n",
      "30 -0.003423      0.0\n",
      "15 -0.004088      0.0\n",
      "47 -0.005383      0.0\n",
      "36 -0.006206      0.0\n",
      "45 -0.007659      0.0\n",
      "8  -0.010250      0.0\n",
      "35 -0.017407      0.0\n",
      "11 -0.037931      0.0\n",
      "1  -0.038487      0.0\n",
      "25 -0.049378      0.0\n",
      "4  -0.056159      0.0\n",
      "2  -0.057711      0.0\n",
      "3  -0.058167      0.0\n",
      "7  -0.067575      0.0\n"
     ]
    }
   ],
   "source": [
    "print(p_coef[p_coef['p_value'] < 0.05].sort_values('coef', ascending = False))"
   ]
  },
  {
   "cell_type": "code",
   "execution_count": 189,
   "id": "783c6f7b",
   "metadata": {},
   "outputs": [],
   "source": [
    "y_pred_GLM = res.predict(X_test)"
   ]
  },
  {
   "cell_type": "code",
   "execution_count": 190,
   "id": "4c809964",
   "metadata": {},
   "outputs": [],
   "source": [
    "predictions_nominal = [ 0 if x < 0.5 else 1 for x in y_pred_GLM]"
   ]
  },
  {
   "cell_type": "code",
   "execution_count": 191,
   "id": "75a27c25",
   "metadata": {},
   "outputs": [
    {
     "data": {
      "text/plain": [
       "0.4470163516670206"
      ]
     },
     "execution_count": 191,
     "metadata": {},
     "output_type": "execute_result"
    }
   ],
   "source": [
    "accuracy_score(y_test, predictions_nominal)"
   ]
  },
  {
   "cell_type": "markdown",
   "id": "607e1537",
   "metadata": {},
   "source": [
    "#### Decision Tree"
   ]
  },
  {
   "cell_type": "code",
   "execution_count": 192,
   "id": "64527f02",
   "metadata": {},
   "outputs": [],
   "source": [
    "decision_tree = DecisionTreeClassifier(random_state = 100)"
   ]
  },
  {
   "cell_type": "code",
   "execution_count": 193,
   "id": "b8ce7c50",
   "metadata": {},
   "outputs": [
    {
     "data": {
      "text/plain": [
       "DecisionTreeClassifier(class_weight=None, criterion='gini', max_depth=None,\n",
       "                       max_features=None, max_leaf_nodes=None,\n",
       "                       min_impurity_decrease=0.0, min_impurity_split=None,\n",
       "                       min_samples_leaf=1, min_samples_split=2,\n",
       "                       min_weight_fraction_leaf=0.0, presort=False,\n",
       "                       random_state=100, splitter='best')"
      ]
     },
     "execution_count": 193,
     "metadata": {},
     "output_type": "execute_result"
    }
   ],
   "source": [
    "decision_tree.fit(X_train, y_train)"
   ]
  },
  {
   "cell_type": "code",
   "execution_count": 194,
   "id": "cadfdd41",
   "metadata": {},
   "outputs": [
    {
     "data": {
      "text/plain": [
       "0.6882565300488427"
      ]
     },
     "execution_count": 194,
     "metadata": {},
     "output_type": "execute_result"
    }
   ],
   "source": [
    "decision_tree.score(X_test, y_test)"
   ]
  },
  {
   "cell_type": "code",
   "execution_count": 195,
   "id": "344765c9",
   "metadata": {},
   "outputs": [],
   "source": [
    "y_pred_dc = decision_tree.predict(X_test)"
   ]
  },
  {
   "cell_type": "code",
   "execution_count": 196,
   "id": "aaf19964",
   "metadata": {},
   "outputs": [
    {
     "data": {
      "text/plain": [
       "array([[1847,  729],\n",
       "       [ 739, 1394]], dtype=int64)"
      ]
     },
     "execution_count": 196,
     "metadata": {},
     "output_type": "execute_result"
    }
   ],
   "source": [
    "confusion_matrix(y_test, y_pred_dc)"
   ]
  },
  {
   "cell_type": "code",
   "execution_count": 197,
   "id": "3f71abbd",
   "metadata": {},
   "outputs": [],
   "source": [
    "feature_names = X_train.columns\n",
    "target_names = df['Status'].unique().tolist()"
   ]
  },
  {
   "cell_type": "code",
   "execution_count": null,
   "id": "894c97e8",
   "metadata": {},
   "outputs": [],
   "source": [
    "decision_tree = tree.export_graphviz(decision_tree, out_file = 'tree.dot', feature_names = X.columns)"
   ]
  },
  {
   "cell_type": "code",
   "execution_count": 199,
   "id": "c547d1f2",
   "metadata": {},
   "outputs": [
    {
     "data": {
      "text/plain": [
       "DecisionTreeClassifier(class_weight=None, criterion='gini', max_depth=None,\n",
       "                       max_features=None, max_leaf_nodes=None,\n",
       "                       min_impurity_decrease=0.0, min_impurity_split=None,\n",
       "                       min_samples_leaf=1, min_samples_split=2,\n",
       "                       min_weight_fraction_leaf=0.0, presort=False,\n",
       "                       random_state=100, splitter='best')"
      ]
     },
     "execution_count": 199,
     "metadata": {},
     "output_type": "execute_result"
    }
   ],
   "source": [
    "decision_tree"
   ]
  },
  {
   "cell_type": "markdown",
   "id": "a383cdfa",
   "metadata": {},
   "source": [
    "#### Random Forest Model "
   ]
  },
  {
   "cell_type": "code",
   "execution_count": 87,
   "id": "e9c12146",
   "metadata": {},
   "outputs": [],
   "source": [
    "model_RF = RandomForestClassifier(n_estimators=100, criterion= 'entropy', random_state = 0)"
   ]
  },
  {
   "cell_type": "code",
   "execution_count": 88,
   "id": "b8ff44cc",
   "metadata": {},
   "outputs": [
    {
     "name": "stderr",
     "output_type": "stream",
     "text": [
      "C:\\Users\\shiva\\AppData\\Local\\Continuum\\anaconda3\\lib\\site-packages\\ipykernel_launcher.py:1: DataConversionWarning: A column-vector y was passed when a 1d array was expected. Please change the shape of y to (n_samples,), for example using ravel().\n",
      "  \"\"\"Entry point for launching an IPython kernel.\n"
     ]
    },
    {
     "data": {
      "text/plain": [
       "RandomForestClassifier(bootstrap=True, class_weight=None, criterion='entropy',\n",
       "                       max_depth=None, max_features='auto', max_leaf_nodes=None,\n",
       "                       min_impurity_decrease=0.0, min_impurity_split=None,\n",
       "                       min_samples_leaf=1, min_samples_split=2,\n",
       "                       min_weight_fraction_leaf=0.0, n_estimators=100,\n",
       "                       n_jobs=None, oob_score=False, random_state=0, verbose=0,\n",
       "                       warm_start=False)"
      ]
     },
     "execution_count": 88,
     "metadata": {},
     "output_type": "execute_result"
    }
   ],
   "source": [
    "model_RF.fit(X_train, y_train)"
   ]
  },
  {
   "cell_type": "code",
   "execution_count": 89,
   "id": "bf491003",
   "metadata": {},
   "outputs": [
    {
     "data": {
      "text/plain": [
       "0.7509025270758123"
      ]
     },
     "execution_count": 89,
     "metadata": {},
     "output_type": "execute_result"
    }
   ],
   "source": [
    "model_RF.score(X_test, y_test)"
   ]
  },
  {
   "cell_type": "code",
   "execution_count": 92,
   "id": "1642931b",
   "metadata": {},
   "outputs": [],
   "source": [
    "y_pred_RF = model_RF.predict(X_test)"
   ]
  },
  {
   "cell_type": "code",
   "execution_count": 93,
   "id": "bd16ea77",
   "metadata": {},
   "outputs": [
    {
     "data": {
      "text/plain": [
       "array([[1995,  581],\n",
       "       [ 592, 1541]], dtype=int64)"
      ]
     },
     "execution_count": 93,
     "metadata": {},
     "output_type": "execute_result"
    }
   ],
   "source": [
    "confusion_matrix(y_test, y_pred_RF)"
   ]
  },
  {
   "cell_type": "markdown",
   "id": "19db8724",
   "metadata": {},
   "source": [
    "#### Gradient Boosting Model"
   ]
  },
  {
   "cell_type": "code",
   "execution_count": 94,
   "id": "86684b1e",
   "metadata": {},
   "outputs": [],
   "source": [
    "boosting_classifier = GradientBoostingClassifier()"
   ]
  },
  {
   "cell_type": "code",
   "execution_count": 95,
   "id": "32c9825f",
   "metadata": {},
   "outputs": [
    {
     "name": "stderr",
     "output_type": "stream",
     "text": [
      "C:\\Users\\shiva\\AppData\\Local\\Continuum\\anaconda3\\lib\\site-packages\\sklearn\\ensemble\\gradient_boosting.py:1450: DataConversionWarning: A column-vector y was passed when a 1d array was expected. Please change the shape of y to (n_samples, ), for example using ravel().\n",
      "  y = column_or_1d(y, warn=True)\n"
     ]
    },
    {
     "data": {
      "text/plain": [
       "GradientBoostingClassifier(criterion='friedman_mse', init=None,\n",
       "                           learning_rate=0.1, loss='deviance', max_depth=3,\n",
       "                           max_features=None, max_leaf_nodes=None,\n",
       "                           min_impurity_decrease=0.0, min_impurity_split=None,\n",
       "                           min_samples_leaf=1, min_samples_split=2,\n",
       "                           min_weight_fraction_leaf=0.0, n_estimators=100,\n",
       "                           n_iter_no_change=None, presort='auto',\n",
       "                           random_state=None, subsample=1.0, tol=0.0001,\n",
       "                           validation_fraction=0.1, verbose=0,\n",
       "                           warm_start=False)"
      ]
     },
     "execution_count": 95,
     "metadata": {},
     "output_type": "execute_result"
    }
   ],
   "source": [
    "boosting_classifier.fit(X_train, y_train)"
   ]
  },
  {
   "cell_type": "code",
   "execution_count": 96,
   "id": "e89e5bfa",
   "metadata": {},
   "outputs": [
    {
     "data": {
      "text/plain": [
       "0.7506901677638564"
      ]
     },
     "execution_count": 96,
     "metadata": {},
     "output_type": "execute_result"
    }
   ],
   "source": [
    "boosting_classifier.score(X_test, y_test)"
   ]
  },
  {
   "cell_type": "code",
   "execution_count": 97,
   "id": "f088f168",
   "metadata": {},
   "outputs": [],
   "source": [
    "y_pred_gbm = boosting_classifier.predict(X_test)"
   ]
  },
  {
   "cell_type": "code",
   "execution_count": 98,
   "id": "dfc04f59",
   "metadata": {},
   "outputs": [
    {
     "data": {
      "text/plain": [
       "array([[1982,  580],\n",
       "       [ 594, 1553]], dtype=int64)"
      ]
     },
     "execution_count": 98,
     "metadata": {},
     "output_type": "execute_result"
    }
   ],
   "source": [
    "confusion_matrix(y_pred_gbm, y_test)"
   ]
  }
 ],
 "metadata": {
  "kernelspec": {
   "display_name": "Python 3",
   "language": "python",
   "name": "python3"
  },
  "language_info": {
   "codemirror_mode": {
    "name": "ipython",
    "version": 3
   },
   "file_extension": ".py",
   "mimetype": "text/x-python",
   "name": "python",
   "nbconvert_exporter": "python",
   "pygments_lexer": "ipython3",
   "version": "3.8.8"
  }
 },
 "nbformat": 4,
 "nbformat_minor": 5
}
